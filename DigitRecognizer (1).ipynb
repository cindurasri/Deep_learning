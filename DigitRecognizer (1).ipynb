{
  "nbformat": 4,
  "nbformat_minor": 0,
  "metadata": {
    "colab": {
      "provenance": [],
      "collapsed_sections": [
        "YmqdLm-sYwqg"
      ]
    },
    "kernelspec": {
      "name": "python3",
      "display_name": "Python 3"
    },
    "language_info": {
      "name": "python"
    }
  },
  "cells": [
    {
      "cell_type": "markdown",
      "source": [],
      "metadata": {
        "id": "th_2P8c34epR"
      }
    },
    {
      "cell_type": "markdown",
      "source": [
        "APPROACH::\n",
        "* Load all lib and datas\n",
        "* Data preparation and data transformation\n",
        "* View images\n",
        "* Model\n",
        "     - Neural network(mlp,dense,fcn)\n",
        "      -Sklearn\n",
        "      -tensor flow\n"
      ],
      "metadata": {
        "id": "AbPkBgoLXhMN"
      }
    },
    {
      "cell_type": "code",
      "execution_count": null,
      "metadata": {
        "colab": {
          "base_uri": "https://localhost:8080/"
        },
        "id": "TGzsHypBPK6C",
        "outputId": "9942b92f-2a30-442a-e1d4-32058bb167ba"
      },
      "outputs": [
        {
          "output_type": "stream",
          "name": "stdout",
          "text": [
            "Archive:  /content/digit-recognizer (1).zip\n",
            "  inflating: sample_submission.csv   \n",
            "  inflating: test.csv                \n",
            "  inflating: train.csv               \n"
          ]
        }
      ],
      "source": [
        "!unzip '/content/digit-recognizer (1).zip'"
      ]
    },
    {
      "cell_type": "markdown",
      "source": [
        "# Image loading example"
      ],
      "metadata": {
        "id": "YmqdLm-sYwqg"
      }
    },
    {
      "cell_type": "markdown",
      "source": [
        "Change the filename within the imread function with your own image"
      ],
      "metadata": {
        "id": "nkNmWNVKY1sk"
      }
    },
    {
      "cell_type": "code",
      "source": [
        "#import cv2"
      ],
      "metadata": {
        "id": "qEMJsww7Vnfj"
      },
      "execution_count": null,
      "outputs": []
    },
    {
      "cell_type": "code",
      "source": [
        "#img = cv2.imread('/content/ARS-OM_1314_Ramsey_free_kick_(cropped).jpg')"
      ],
      "metadata": {
        "id": "sW1f3orrWVOs"
      },
      "execution_count": null,
      "outputs": []
    },
    {
      "cell_type": "code",
      "source": [
        "#type(img)"
      ],
      "metadata": {
        "id": "ebYA4v7KWbGl"
      },
      "execution_count": null,
      "outputs": []
    },
    {
      "cell_type": "code",
      "source": [
        "#img.shape"
      ],
      "metadata": {
        "id": "aFJKEjXEWtoH"
      },
      "execution_count": null,
      "outputs": []
    },
    {
      "cell_type": "code",
      "source": [
        "#img"
      ],
      "metadata": {
        "id": "wl7SC56kW4Ho"
      },
      "execution_count": null,
      "outputs": []
    },
    {
      "cell_type": "markdown",
      "source": [
        "# Load Images and Libraries"
      ],
      "metadata": {
        "id": "VxgwLSeZY8wd"
      }
    },
    {
      "cell_type": "markdown",
      "source": [
        "Load all libraries"
      ],
      "metadata": {
        "id": "PTlvWls1ZAhV"
      }
    },
    {
      "cell_type": "code",
      "source": [
        "import pandas as pd\n",
        "import numpy as np\n",
        "import matplotlib.pyplot as plt\n",
        "import seaborn as sns\n",
        "from sklearn.model_selection import train_test_split\n",
        "from sklearn.linear_model import Perceptron\n",
        "from sklearn.neural_network import MLPClassifier\n",
        "from sklearn.metrics import accuracy_score, classification_report, confusion_matrix"
      ],
      "metadata": {
        "id": "8JE_lbLfZAHo"
      },
      "execution_count": null,
      "outputs": []
    },
    {
      "cell_type": "markdown",
      "source": [
        "Load the data\n"
      ],
      "metadata": {
        "id": "kHjMvIFEaKcJ"
      }
    },
    {
      "cell_type": "code",
      "source": [
        "train = pd.read_csv('/content/train.csv')\n",
        "test = pd.read_csv('/content/test.csv')"
      ],
      "metadata": {
        "id": "WcIc6UXDaMVy"
      },
      "execution_count": null,
      "outputs": []
    },
    {
      "cell_type": "code",
      "source": [
        "train.shape"
      ],
      "metadata": {
        "colab": {
          "base_uri": "https://localhost:8080/"
        },
        "id": "DG-z6fQpagFf",
        "outputId": "dc97f9fd-177c-413c-8ef1-c5a9f3670311"
      },
      "execution_count": null,
      "outputs": [
        {
          "output_type": "execute_result",
          "data": {
            "text/plain": [
              "(42000, 785)"
            ]
          },
          "metadata": {},
          "execution_count": 4
        }
      ]
    },
    {
      "cell_type": "code",
      "source": [
        "train.info()"
      ],
      "metadata": {
        "colab": {
          "base_uri": "https://localhost:8080/"
        },
        "id": "osL4bkXWbJY7",
        "outputId": "9437da3a-0747-47cb-b6f6-4d9e5ff7aad2"
      },
      "execution_count": null,
      "outputs": [
        {
          "output_type": "stream",
          "name": "stdout",
          "text": [
            "<class 'pandas.core.frame.DataFrame'>\n",
            "RangeIndex: 42000 entries, 0 to 41999\n",
            "Columns: 785 entries, label to pixel783\n",
            "dtypes: int64(785)\n",
            "memory usage: 251.5 MB\n"
          ]
        }
      ]
    },
    {
      "cell_type": "code",
      "source": [
        "train.tail()"
      ],
      "metadata": {
        "colab": {
          "base_uri": "https://localhost:8080/",
          "height": 299
        },
        "id": "Gr66LCci_UHX",
        "outputId": "f1c2ce11-da85-4d0a-e7fe-db3207ffa3c6"
      },
      "execution_count": null,
      "outputs": [
        {
          "output_type": "execute_result",
          "data": {
            "text/plain": [
              "       label  pixel0  pixel1  pixel2  pixel3  pixel4  pixel5  pixel6  pixel7  \\\n",
              "41995      0       0       0       0       0       0       0       0       0   \n",
              "41996      1       0       0       0       0       0       0       0       0   \n",
              "41997      7       0       0       0       0       0       0       0       0   \n",
              "41998      6       0       0       0       0       0       0       0       0   \n",
              "41999      9       0       0       0       0       0       0       0       0   \n",
              "\n",
              "       pixel8  ...  pixel774  pixel775  pixel776  pixel777  pixel778  \\\n",
              "41995       0  ...         0         0         0         0         0   \n",
              "41996       0  ...         0         0         0         0         0   \n",
              "41997       0  ...         0         0         0         0         0   \n",
              "41998       0  ...         0         0         0         0         0   \n",
              "41999       0  ...         0         0         0         0         0   \n",
              "\n",
              "       pixel779  pixel780  pixel781  pixel782  pixel783  \n",
              "41995         0         0         0         0         0  \n",
              "41996         0         0         0         0         0  \n",
              "41997         0         0         0         0         0  \n",
              "41998         0         0         0         0         0  \n",
              "41999         0         0         0         0         0  \n",
              "\n",
              "[5 rows x 785 columns]"
            ],
            "text/html": [
              "\n",
              "\n",
              "  <div id=\"df-089b5755-6f38-4cbb-98b7-874322beb783\">\n",
              "    <div class=\"colab-df-container\">\n",
              "      <div>\n",
              "<style scoped>\n",
              "    .dataframe tbody tr th:only-of-type {\n",
              "        vertical-align: middle;\n",
              "    }\n",
              "\n",
              "    .dataframe tbody tr th {\n",
              "        vertical-align: top;\n",
              "    }\n",
              "\n",
              "    .dataframe thead th {\n",
              "        text-align: right;\n",
              "    }\n",
              "</style>\n",
              "<table border=\"1\" class=\"dataframe\">\n",
              "  <thead>\n",
              "    <tr style=\"text-align: right;\">\n",
              "      <th></th>\n",
              "      <th>label</th>\n",
              "      <th>pixel0</th>\n",
              "      <th>pixel1</th>\n",
              "      <th>pixel2</th>\n",
              "      <th>pixel3</th>\n",
              "      <th>pixel4</th>\n",
              "      <th>pixel5</th>\n",
              "      <th>pixel6</th>\n",
              "      <th>pixel7</th>\n",
              "      <th>pixel8</th>\n",
              "      <th>...</th>\n",
              "      <th>pixel774</th>\n",
              "      <th>pixel775</th>\n",
              "      <th>pixel776</th>\n",
              "      <th>pixel777</th>\n",
              "      <th>pixel778</th>\n",
              "      <th>pixel779</th>\n",
              "      <th>pixel780</th>\n",
              "      <th>pixel781</th>\n",
              "      <th>pixel782</th>\n",
              "      <th>pixel783</th>\n",
              "    </tr>\n",
              "  </thead>\n",
              "  <tbody>\n",
              "    <tr>\n",
              "      <th>41995</th>\n",
              "      <td>0</td>\n",
              "      <td>0</td>\n",
              "      <td>0</td>\n",
              "      <td>0</td>\n",
              "      <td>0</td>\n",
              "      <td>0</td>\n",
              "      <td>0</td>\n",
              "      <td>0</td>\n",
              "      <td>0</td>\n",
              "      <td>0</td>\n",
              "      <td>...</td>\n",
              "      <td>0</td>\n",
              "      <td>0</td>\n",
              "      <td>0</td>\n",
              "      <td>0</td>\n",
              "      <td>0</td>\n",
              "      <td>0</td>\n",
              "      <td>0</td>\n",
              "      <td>0</td>\n",
              "      <td>0</td>\n",
              "      <td>0</td>\n",
              "    </tr>\n",
              "    <tr>\n",
              "      <th>41996</th>\n",
              "      <td>1</td>\n",
              "      <td>0</td>\n",
              "      <td>0</td>\n",
              "      <td>0</td>\n",
              "      <td>0</td>\n",
              "      <td>0</td>\n",
              "      <td>0</td>\n",
              "      <td>0</td>\n",
              "      <td>0</td>\n",
              "      <td>0</td>\n",
              "      <td>...</td>\n",
              "      <td>0</td>\n",
              "      <td>0</td>\n",
              "      <td>0</td>\n",
              "      <td>0</td>\n",
              "      <td>0</td>\n",
              "      <td>0</td>\n",
              "      <td>0</td>\n",
              "      <td>0</td>\n",
              "      <td>0</td>\n",
              "      <td>0</td>\n",
              "    </tr>\n",
              "    <tr>\n",
              "      <th>41997</th>\n",
              "      <td>7</td>\n",
              "      <td>0</td>\n",
              "      <td>0</td>\n",
              "      <td>0</td>\n",
              "      <td>0</td>\n",
              "      <td>0</td>\n",
              "      <td>0</td>\n",
              "      <td>0</td>\n",
              "      <td>0</td>\n",
              "      <td>0</td>\n",
              "      <td>...</td>\n",
              "      <td>0</td>\n",
              "      <td>0</td>\n",
              "      <td>0</td>\n",
              "      <td>0</td>\n",
              "      <td>0</td>\n",
              "      <td>0</td>\n",
              "      <td>0</td>\n",
              "      <td>0</td>\n",
              "      <td>0</td>\n",
              "      <td>0</td>\n",
              "    </tr>\n",
              "    <tr>\n",
              "      <th>41998</th>\n",
              "      <td>6</td>\n",
              "      <td>0</td>\n",
              "      <td>0</td>\n",
              "      <td>0</td>\n",
              "      <td>0</td>\n",
              "      <td>0</td>\n",
              "      <td>0</td>\n",
              "      <td>0</td>\n",
              "      <td>0</td>\n",
              "      <td>0</td>\n",
              "      <td>...</td>\n",
              "      <td>0</td>\n",
              "      <td>0</td>\n",
              "      <td>0</td>\n",
              "      <td>0</td>\n",
              "      <td>0</td>\n",
              "      <td>0</td>\n",
              "      <td>0</td>\n",
              "      <td>0</td>\n",
              "      <td>0</td>\n",
              "      <td>0</td>\n",
              "    </tr>\n",
              "    <tr>\n",
              "      <th>41999</th>\n",
              "      <td>9</td>\n",
              "      <td>0</td>\n",
              "      <td>0</td>\n",
              "      <td>0</td>\n",
              "      <td>0</td>\n",
              "      <td>0</td>\n",
              "      <td>0</td>\n",
              "      <td>0</td>\n",
              "      <td>0</td>\n",
              "      <td>0</td>\n",
              "      <td>...</td>\n",
              "      <td>0</td>\n",
              "      <td>0</td>\n",
              "      <td>0</td>\n",
              "      <td>0</td>\n",
              "      <td>0</td>\n",
              "      <td>0</td>\n",
              "      <td>0</td>\n",
              "      <td>0</td>\n",
              "      <td>0</td>\n",
              "      <td>0</td>\n",
              "    </tr>\n",
              "  </tbody>\n",
              "</table>\n",
              "<p>5 rows × 785 columns</p>\n",
              "</div>\n",
              "      <button class=\"colab-df-convert\" onclick=\"convertToInteractive('df-089b5755-6f38-4cbb-98b7-874322beb783')\"\n",
              "              title=\"Convert this dataframe to an interactive table.\"\n",
              "              style=\"display:none;\">\n",
              "\n",
              "  <svg xmlns=\"http://www.w3.org/2000/svg\" height=\"24px\"viewBox=\"0 0 24 24\"\n",
              "       width=\"24px\">\n",
              "    <path d=\"M0 0h24v24H0V0z\" fill=\"none\"/>\n",
              "    <path d=\"M18.56 5.44l.94 2.06.94-2.06 2.06-.94-2.06-.94-.94-2.06-.94 2.06-2.06.94zm-11 1L8.5 8.5l.94-2.06 2.06-.94-2.06-.94L8.5 2.5l-.94 2.06-2.06.94zm10 10l.94 2.06.94-2.06 2.06-.94-2.06-.94-.94-2.06-.94 2.06-2.06.94z\"/><path d=\"M17.41 7.96l-1.37-1.37c-.4-.4-.92-.59-1.43-.59-.52 0-1.04.2-1.43.59L10.3 9.45l-7.72 7.72c-.78.78-.78 2.05 0 2.83L4 21.41c.39.39.9.59 1.41.59.51 0 1.02-.2 1.41-.59l7.78-7.78 2.81-2.81c.8-.78.8-2.07 0-2.86zM5.41 20L4 18.59l7.72-7.72 1.47 1.35L5.41 20z\"/>\n",
              "  </svg>\n",
              "      </button>\n",
              "\n",
              "\n",
              "\n",
              "    <div id=\"df-c99b4563-9e02-4462-9b74-2e83d12fec25\">\n",
              "      <button class=\"colab-df-quickchart\" onclick=\"quickchart('df-c99b4563-9e02-4462-9b74-2e83d12fec25')\"\n",
              "              title=\"Suggest charts.\"\n",
              "              style=\"display:none;\">\n",
              "\n",
              "<svg xmlns=\"http://www.w3.org/2000/svg\" height=\"24px\"viewBox=\"0 0 24 24\"\n",
              "     width=\"24px\">\n",
              "    <g>\n",
              "        <path d=\"M19 3H5c-1.1 0-2 .9-2 2v14c0 1.1.9 2 2 2h14c1.1 0 2-.9 2-2V5c0-1.1-.9-2-2-2zM9 17H7v-7h2v7zm4 0h-2V7h2v10zm4 0h-2v-4h2v4z\"/>\n",
              "    </g>\n",
              "</svg>\n",
              "      </button>\n",
              "    </div>\n",
              "\n",
              "<style>\n",
              "  .colab-df-quickchart {\n",
              "    background-color: #E8F0FE;\n",
              "    border: none;\n",
              "    border-radius: 50%;\n",
              "    cursor: pointer;\n",
              "    display: none;\n",
              "    fill: #1967D2;\n",
              "    height: 32px;\n",
              "    padding: 0 0 0 0;\n",
              "    width: 32px;\n",
              "  }\n",
              "\n",
              "  .colab-df-quickchart:hover {\n",
              "    background-color: #E2EBFA;\n",
              "    box-shadow: 0px 1px 2px rgba(60, 64, 67, 0.3), 0px 1px 3px 1px rgba(60, 64, 67, 0.15);\n",
              "    fill: #174EA6;\n",
              "  }\n",
              "\n",
              "  [theme=dark] .colab-df-quickchart {\n",
              "    background-color: #3B4455;\n",
              "    fill: #D2E3FC;\n",
              "  }\n",
              "\n",
              "  [theme=dark] .colab-df-quickchart:hover {\n",
              "    background-color: #434B5C;\n",
              "    box-shadow: 0px 1px 3px 1px rgba(0, 0, 0, 0.15);\n",
              "    filter: drop-shadow(0px 1px 2px rgba(0, 0, 0, 0.3));\n",
              "    fill: #FFFFFF;\n",
              "  }\n",
              "</style>\n",
              "\n",
              "    <script>\n",
              "      async function quickchart(key) {\n",
              "        const containerElement = document.querySelector('#' + key);\n",
              "        const charts = await google.colab.kernel.invokeFunction(\n",
              "            'suggestCharts', [key], {});\n",
              "      }\n",
              "    </script>\n",
              "\n",
              "      <script>\n",
              "\n",
              "function displayQuickchartButton(domScope) {\n",
              "  let quickchartButtonEl =\n",
              "    domScope.querySelector('#df-c99b4563-9e02-4462-9b74-2e83d12fec25 button.colab-df-quickchart');\n",
              "  quickchartButtonEl.style.display =\n",
              "    google.colab.kernel.accessAllowed ? 'block' : 'none';\n",
              "}\n",
              "\n",
              "        displayQuickchartButton(document);\n",
              "      </script>\n",
              "      <style>\n",
              "    .colab-df-container {\n",
              "      display:flex;\n",
              "      flex-wrap:wrap;\n",
              "      gap: 12px;\n",
              "    }\n",
              "\n",
              "    .colab-df-convert {\n",
              "      background-color: #E8F0FE;\n",
              "      border: none;\n",
              "      border-radius: 50%;\n",
              "      cursor: pointer;\n",
              "      display: none;\n",
              "      fill: #1967D2;\n",
              "      height: 32px;\n",
              "      padding: 0 0 0 0;\n",
              "      width: 32px;\n",
              "    }\n",
              "\n",
              "    .colab-df-convert:hover {\n",
              "      background-color: #E2EBFA;\n",
              "      box-shadow: 0px 1px 2px rgba(60, 64, 67, 0.3), 0px 1px 3px 1px rgba(60, 64, 67, 0.15);\n",
              "      fill: #174EA6;\n",
              "    }\n",
              "\n",
              "    [theme=dark] .colab-df-convert {\n",
              "      background-color: #3B4455;\n",
              "      fill: #D2E3FC;\n",
              "    }\n",
              "\n",
              "    [theme=dark] .colab-df-convert:hover {\n",
              "      background-color: #434B5C;\n",
              "      box-shadow: 0px 1px 3px 1px rgba(0, 0, 0, 0.15);\n",
              "      filter: drop-shadow(0px 1px 2px rgba(0, 0, 0, 0.3));\n",
              "      fill: #FFFFFF;\n",
              "    }\n",
              "  </style>\n",
              "\n",
              "      <script>\n",
              "        const buttonEl =\n",
              "          document.querySelector('#df-089b5755-6f38-4cbb-98b7-874322beb783 button.colab-df-convert');\n",
              "        buttonEl.style.display =\n",
              "          google.colab.kernel.accessAllowed ? 'block' : 'none';\n",
              "\n",
              "        async function convertToInteractive(key) {\n",
              "          const element = document.querySelector('#df-089b5755-6f38-4cbb-98b7-874322beb783');\n",
              "          const dataTable =\n",
              "            await google.colab.kernel.invokeFunction('convertToInteractive',\n",
              "                                                     [key], {});\n",
              "          if (!dataTable) return;\n",
              "\n",
              "          const docLinkHtml = 'Like what you see? Visit the ' +\n",
              "            '<a target=\"_blank\" href=https://colab.research.google.com/notebooks/data_table.ipynb>data table notebook</a>'\n",
              "            + ' to learn more about interactive tables.';\n",
              "          element.innerHTML = '';\n",
              "          dataTable['output_type'] = 'display_data';\n",
              "          await google.colab.output.renderOutput(dataTable, element);\n",
              "          const docLink = document.createElement('div');\n",
              "          docLink.innerHTML = docLinkHtml;\n",
              "          element.appendChild(docLink);\n",
              "        }\n",
              "      </script>\n",
              "    </div>\n",
              "  </div>\n"
            ]
          },
          "metadata": {},
          "execution_count": 6
        }
      ]
    },
    {
      "cell_type": "markdown",
      "source": [],
      "metadata": {
        "id": "Cpu-qAZc_XSz"
      }
    },
    {
      "cell_type": "code",
      "source": [
        "train.skew()"
      ],
      "metadata": {
        "colab": {
          "base_uri": "https://localhost:8080/"
        },
        "id": "pax7-yCicaak",
        "outputId": "55e965e0-4856-41c9-f27e-1629de205452"
      },
      "execution_count": null,
      "outputs": [
        {
          "output_type": "execute_result",
          "data": {
            "text/plain": [
              "label         0.026479\n",
              "pixel0        0.000000\n",
              "pixel1        0.000000\n",
              "pixel2        0.000000\n",
              "pixel3        0.000000\n",
              "               ...    \n",
              "pixel779    145.149671\n",
              "pixel780      0.000000\n",
              "pixel781      0.000000\n",
              "pixel782      0.000000\n",
              "pixel783      0.000000\n",
              "Length: 785, dtype: float64"
            ]
          },
          "metadata": {},
          "execution_count": 7
        }
      ]
    },
    {
      "cell_type": "markdown",
      "source": [
        "Plot the image"
      ],
      "metadata": {
        "id": "wms-LjF3CJlx"
      }
    },
    {
      "cell_type": "code",
      "source": [
        "#image_data.shape"
      ],
      "metadata": {
        "id": "vaL0N_I5Dp88"
      },
      "execution_count": null,
      "outputs": []
    },
    {
      "cell_type": "code",
      "source": [
        "features = [\"pixel{}\".format(pixel_num) for pixel_num in range(0,784)]\n",
        "rows_to_examine = 41999\n",
        "image_data = np.reshape(train[features][rows_to_examine:rows_to_examine+1].to_numpy(), (28,28))\n",
        "plt.imshow(image_data, cmap = 'gray')"
      ],
      "metadata": {
        "colab": {
          "base_uri": "https://localhost:8080/",
          "height": 447
        },
        "id": "_BomBQHq_GZr",
        "outputId": "d37fd695-9ba3-40ea-d68a-d157b023ab92"
      },
      "execution_count": null,
      "outputs": [
        {
          "output_type": "execute_result",
          "data": {
            "text/plain": [
              "<matplotlib.image.AxesImage at 0x7cdf9caec7c0>"
            ]
          },
          "metadata": {},
          "execution_count": 9
        },
        {
          "output_type": "display_data",
          "data": {
            "text/plain": [
              "<Figure size 640x480 with 1 Axes>"
            ],
            "image/png": "[encoded data removed]"
          },
          "metadata": {}
        }
      ]
    },
    {
      "cell_type": "markdown",
      "source": [
        "# Model Process"
      ],
      "metadata": {
        "id": "KWxOMVVUFBU_"
      }
    },
    {
      "cell_type": "markdown",
      "source": [
        "Divide the data into X & Y"
      ],
      "metadata": {
        "id": "xKaakiHmFQFr"
      }
    },
    {
      "cell_type": "code",
      "source": [
        "x = train.iloc[:,1:]\n",
        "y = train['label']"
      ],
      "metadata": {
        "id": "jYK5XGINFXEe"
      },
      "execution_count": null,
      "outputs": []
    },
    {
      "cell_type": "code",
      "source": [
        "x_train, x_test, y_train, y_test = train_test_split(x, y, test_size = 0.2, random_state = 123)"
      ],
      "metadata": {
        "id": "XrLZwye2F1E7"
      },
      "execution_count": null,
      "outputs": []
    },
    {
      "cell_type": "code",
      "source": [
        "print(x_train.shape)\n",
        "print(x_test.shape)\n",
        "print(y_train.shape)\n",
        "print(y_test.shape)"
      ],
      "metadata": {
        "colab": {
          "base_uri": "https://localhost:8080/"
        },
        "id": "6hgdBGPyF_aR",
        "outputId": "05a3ccf6-100d-4c16-8803-cdc61e6b8c4d"
      },
      "execution_count": null,
      "outputs": [
        {
          "output_type": "stream",
          "name": "stdout",
          "text": [
            "(33600, 784)\n",
            "(8400, 784)\n",
            "(33600,)\n",
            "(8400,)\n"
          ]
        }
      ]
    },
    {
      "cell_type": "markdown",
      "source": [
        "Single Layer Perceptron"
      ],
      "metadata": {
        "id": "CvmiJrj2WZC5"
      }
    },
    {
      "cell_type": "code",
      "source": [
        "slp = Perceptron(verbose = 1)\n",
        "slp.fit(x_train, y_train)\n",
        "preds_slp_train = slp.predict(x_train)\n",
        "preds_slp_test = slp.predict(x_test)"
      ],
      "metadata": {
        "id": "lUaduFZUWbgN",
        "colab": {
          "base_uri": "https://localhost:8080/"
        },
        "outputId": "db0c4ffd-ad81-4758-aa0f-4453b50aa6b0"
      },
      "execution_count": null,
      "outputs": [
        {
          "output_type": "stream",
          "name": "stdout",
          "text": [
            "-- Epoch 1\n",
            "Norm: 33680.40, NNZs: 599, Bias: -92.000000, T: 33600, Avg. loss: 46817.951667\n",
            "Total training time: 0.05 seconds.\n",
            "-- Epoch 2\n",
            "Norm: 42819.49, NNZs: 607, Bias: -161.000000, T: 67200, Avg. loss: 41184.869077\n",
            "Total training time: 0.10 seconds.\n",
            "-- Epoch 3\n",
            "Norm: 48607.75, NNZs: 614, Bias: -222.000000, T: 100800, Avg. loss: 36891.702232\n",
            "Total training time: 0.15 seconds.\n",
            "-- Epoch 4\n",
            "Norm: 54442.08, NNZs: 625, Bias: -281.000000, T: 134400, Avg. loss: 35999.461042\n",
            "Total training time: 0.21 seconds.\n",
            "-- Epoch 5\n",
            "Norm: 58608.01, NNZs: 631, Bias: -333.000000, T: 168000, Avg. loss: 37009.589702\n",
            "Total training time: 0.26 seconds.\n",
            "-- Epoch 6\n",
            "Norm: 61946.25, NNZs: 635, Bias: -383.000000, T: 201600, Avg. loss: 34799.316220\n",
            "Total training time: 0.32 seconds.\n",
            "-- Epoch 7\n",
            "Norm: 65207.63, NNZs: 637, Bias: -432.000000, T: 235200, Avg. loss: 36238.479613\n",
            "Total training time: 0.37 seconds.\n",
            "-- Epoch 8\n",
            "Norm: 68995.89, NNZs: 639, Bias: -476.000000, T: 268800, Avg. loss: 34062.205625\n",
            "Total training time: 0.42 seconds.\n",
            "-- Epoch 9\n",
            "Norm: 72716.99, NNZs: 639, Bias: -521.000000, T: 302400, Avg. loss: 32438.202173\n",
            "Total training time: 0.48 seconds.\n",
            "-- Epoch 10\n",
            "Norm: 75447.16, NNZs: 639, Bias: -563.000000, T: 336000, Avg. loss: 32292.536667\n",
            "Total training time: 0.53 seconds.\n",
            "-- Epoch 11\n",
            "Norm: 77822.41, NNZs: 639, Bias: -609.000000, T: 369600, Avg. loss: 34301.058214\n",
            "Total training time: 0.58 seconds.\n",
            "-- Epoch 12\n",
            "Norm: 81007.01, NNZs: 639, Bias: -661.000000, T: 403200, Avg. loss: 35224.191131\n",
            "Total training time: 0.63 seconds.\n",
            "-- Epoch 13\n",
            "Norm: 82890.94, NNZs: 639, Bias: -705.000000, T: 436800, Avg. loss: 33747.325863\n",
            "Total training time: 0.69 seconds.\n",
            "-- Epoch 14\n",
            "Norm: 84973.26, NNZs: 639, Bias: -748.000000, T: 470400, Avg. loss: 31301.132321\n",
            "Total training time: 0.74 seconds.\n",
            "-- Epoch 15\n",
            "Norm: 87757.36, NNZs: 639, Bias: -792.000000, T: 504000, Avg. loss: 32312.222708\n",
            "Total training time: 0.79 seconds.\n",
            "-- Epoch 16\n",
            "Norm: 89517.12, NNZs: 639, Bias: -834.000000, T: 537600, Avg. loss: 31293.953988\n",
            "Total training time: 0.85 seconds.\n",
            "-- Epoch 17\n",
            "Norm: 92120.81, NNZs: 639, Bias: -879.000000, T: 571200, Avg. loss: 31823.835923\n",
            "Total training time: 0.90 seconds.\n",
            "-- Epoch 18\n",
            "Norm: 93354.02, NNZs: 639, Bias: -923.000000, T: 604800, Avg. loss: 32199.063512\n",
            "Total training time: 0.95 seconds.\n",
            "-- Epoch 19\n",
            "Norm: 95389.80, NNZs: 639, Bias: -962.000000, T: 638400, Avg. loss: 31501.624494\n",
            "Total training time: 1.00 seconds.\n",
            "-- Epoch 20\n",
            "Norm: 97060.82, NNZs: 639, Bias: -1013.000000, T: 672000, Avg. loss: 32789.124375\n",
            "Total training time: 1.06 seconds.\n",
            "-- Epoch 21\n",
            "Norm: 99342.75, NNZs: 639, Bias: -1061.000000, T: 705600, Avg. loss: 33667.573423\n",
            "Total training time: 1.11 seconds.\n",
            "Convergence after 21 epochs took 1.11 seconds\n",
            "-- Epoch 1\n",
            "Norm: 26398.31, NNZs: 560, Bias: -34.000000, T: 33600, Avg. loss: 25361.617619\n",
            "Total training time: 0.05 seconds.\n",
            "-- Epoch 2\n",
            "Norm: 31613.19, NNZs: 570, Bias: -58.000000, T: 67200, Avg. loss: 22125.669107\n",
            "Total training time: 0.10 seconds.\n",
            "-- Epoch 3\n",
            "Norm: 36264.55, NNZs: 571, Bias: -73.000000, T: 100800, Avg. loss: 21133.352976\n",
            "Total training time: 0.15 seconds.\n",
            "-- Epoch 4\n",
            "Norm: 38909.07, NNZs: 576, Bias: -84.000000, T: 134400, Avg. loss: 20576.478393\n",
            "Total training time: 0.21 seconds.\n",
            "-- Epoch 5\n",
            "Norm: 41697.16, NNZs: 578, Bias: -98.000000, T: 168000, Avg. loss: 19900.769613\n",
            "Total training time: 0.26 seconds.\n",
            "-- Epoch 6\n",
            "Norm: 44398.44, NNZs: 581, Bias: -105.000000, T: 201600, Avg. loss: 20754.749137\n",
            "Total training time: 0.31 seconds.\n",
            "-- Epoch 7\n",
            "Norm: 46842.38, NNZs: 583, Bias: -118.000000, T: 235200, Avg. loss: 19517.157589\n",
            "Total training time: 0.36 seconds.\n",
            "-- Epoch 8\n",
            "Norm: 49225.67, NNZs: 594, Bias: -128.000000, T: 268800, Avg. loss: 19386.208720\n",
            "Total training time: 0.42 seconds.\n",
            "-- Epoch 9\n",
            "Norm: 51823.38, NNZs: 599, Bias: -137.000000, T: 302400, Avg. loss: 18184.694405\n",
            "Total training time: 0.47 seconds.\n",
            "-- Epoch 10\n",
            "Norm: 54147.67, NNZs: 600, Bias: -143.000000, T: 336000, Avg. loss: 17881.692321\n",
            "Total training time: 0.52 seconds.\n",
            "-- Epoch 11\n",
            "Norm: 56021.15, NNZs: 604, Bias: -148.000000, T: 369600, Avg. loss: 18653.010893\n",
            "Total training time: 0.57 seconds.\n",
            "-- Epoch 12\n",
            "Norm: 58496.56, NNZs: 609, Bias: -153.000000, T: 403200, Avg. loss: 18471.054405\n",
            "Total training time: 0.62 seconds.\n",
            "-- Epoch 13\n",
            "Norm: 59823.30, NNZs: 609, Bias: -163.000000, T: 436800, Avg. loss: 18384.287500\n",
            "Total training time: 0.67 seconds.\n",
            "-- Epoch 14\n",
            "Norm: 61703.24, NNZs: 609, Bias: -173.000000, T: 470400, Avg. loss: 17105.853750\n",
            "Total training time: 0.72 seconds.\n",
            "-- Epoch 15\n",
            "Norm: 63489.23, NNZs: 612, Bias: -181.000000, T: 504000, Avg. loss: 18975.412976\n",
            "Total training time: 0.78 seconds.\n",
            "-- Epoch 16\n",
            "Norm: 65371.44, NNZs: 612, Bias: -186.000000, T: 537600, Avg. loss: 17669.717976\n",
            "Total training time: 0.83 seconds.\n",
            "-- Epoch 17\n",
            "Norm: 66946.91, NNZs: 614, Bias: -194.000000, T: 571200, Avg. loss: 17663.917560\n",
            "Total training time: 0.88 seconds.\n",
            "-- Epoch 18\n",
            "Norm: 68839.28, NNZs: 617, Bias: -203.000000, T: 604800, Avg. loss: 18486.346875\n",
            "Total training time: 0.93 seconds.\n",
            "-- Epoch 19\n",
            "Norm: 70613.40, NNZs: 617, Bias: -213.000000, T: 638400, Avg. loss: 18157.243452\n",
            "Total training time: 0.98 seconds.\n",
            "Convergence after 19 epochs took 0.98 seconds\n",
            "-- Epoch 1\n",
            "Norm: 37314.14, NNZs: 631, Bias: -88.000000, T: 33600, Avg. loss: 96577.045923\n",
            "Total training time: 0.05 seconds.\n",
            "-- Epoch 2\n",
            "Norm: 44128.72, NNZs: 636, Bias: -162.000000, T: 67200, Avg. loss: 90873.737083\n",
            "Total training time: 0.11 seconds.\n",
            "-- Epoch 3\n",
            "Norm: 50583.74, NNZs: 642, Bias: -231.000000, T: 100800, Avg. loss: 89628.583750\n",
            "Total training time: 0.16 seconds.\n",
            "-- Epoch 4\n",
            "Norm: 54168.58, NNZs: 643, Bias: -302.000000, T: 134400, Avg. loss: 90226.199018\n",
            "Total training time: 0.22 seconds.\n",
            "-- Epoch 5\n",
            "Norm: 56510.36, NNZs: 643, Bias: -357.000000, T: 168000, Avg. loss: 86301.561548\n",
            "Total training time: 0.27 seconds.\n",
            "-- Epoch 6\n",
            "Norm: 62285.13, NNZs: 644, Bias: -425.000000, T: 201600, Avg. loss: 88602.669762\n",
            "Total training time: 0.33 seconds.\n",
            "-- Epoch 7\n",
            "Norm: 63389.29, NNZs: 644, Bias: -489.000000, T: 235200, Avg. loss: 87977.359286\n",
            "Total training time: 0.39 seconds.\n",
            "-- Epoch 8\n",
            "Norm: 66491.61, NNZs: 644, Bias: -556.000000, T: 268800, Avg. loss: 85774.638423\n",
            "Total training time: 0.45 seconds.\n",
            "-- Epoch 9\n",
            "Norm: 69262.00, NNZs: 644, Bias: -609.000000, T: 302400, Avg. loss: 87651.091399\n",
            "Total training time: 0.51 seconds.\n",
            "-- Epoch 10\n",
            "Norm: 71601.70, NNZs: 644, Bias: -668.000000, T: 336000, Avg. loss: 85173.424613\n",
            "Total training time: 0.57 seconds.\n",
            "-- Epoch 11\n",
            "Norm: 74203.18, NNZs: 645, Bias: -723.000000, T: 369600, Avg. loss: 86586.834167\n",
            "Total training time: 0.64 seconds.\n",
            "-- Epoch 12\n",
            "Norm: 75418.48, NNZs: 646, Bias: -781.000000, T: 403200, Avg. loss: 84865.833690\n",
            "Total training time: 0.70 seconds.\n",
            "-- Epoch 13\n",
            "Norm: 76865.98, NNZs: 646, Bias: -832.000000, T: 436800, Avg. loss: 90802.518750\n",
            "Total training time: 0.76 seconds.\n",
            "-- Epoch 14\n",
            "Norm: 78601.91, NNZs: 646, Bias: -887.000000, T: 470400, Avg. loss: 89849.372232\n",
            "Total training time: 0.82 seconds.\n",
            "-- Epoch 15\n",
            "Norm: 81254.93, NNZs: 650, Bias: -951.000000, T: 504000, Avg. loss: 84589.548869\n",
            "Total training time: 0.88 seconds.\n",
            "-- Epoch 16\n",
            "Norm: 82067.45, NNZs: 649, Bias: -1013.000000, T: 537600, Avg. loss: 88280.016190\n",
            "Total training time: 0.94 seconds.\n",
            "-- Epoch 17\n",
            "Norm: 84184.62, NNZs: 650, Bias: -1075.000000, T: 571200, Avg. loss: 85966.068036\n",
            "Total training time: 1.00 seconds.\n",
            "-- Epoch 18\n",
            "Norm: 85028.95, NNZs: 650, Bias: -1128.000000, T: 604800, Avg. loss: 88452.863333\n",
            "Total training time: 1.05 seconds.\n",
            "-- Epoch 19\n",
            "Norm: 86305.68, NNZs: 650, Bias: -1185.000000, T: 638400, Avg. loss: 83922.722500\n",
            "Total training time: 1.11 seconds.\n",
            "-- Epoch 20\n",
            "Norm: 87377.31, NNZs: 650, Bias: -1242.000000, T: 672000, Avg. loss: 87437.992798\n",
            "Total training time: 1.17 seconds.\n",
            "-- Epoch 21\n",
            "Norm: 88789.49, NNZs: 654, Bias: -1291.000000, T: 705600, Avg. loss: 86266.221339\n",
            "Total training time: 1.26 seconds.\n",
            "-- Epoch 22\n",
            "Norm: 89872.88, NNZs: 654, Bias: -1346.000000, T: 739200, Avg. loss: 84863.819226\n",
            "Total training time: 1.39 seconds.\n",
            "-- Epoch 23\n",
            "Norm: 90691.38, NNZs: 655, Bias: -1392.000000, T: 772800, Avg. loss: 84192.695446\n",
            "Total training time: 1.54 seconds.\n",
            "-- Epoch 24\n",
            "Norm: 92075.79, NNZs: 654, Bias: -1456.000000, T: 806400, Avg. loss: 89009.586488\n",
            "Total training time: 1.68 seconds.\n",
            "Convergence after 24 epochs took 1.68 seconds\n",
            "-- Epoch 1\n",
            "Norm: 35843.44, NNZs: 592, Bias: -183.000000, T: 33600, Avg. loss: 128480.352351\n",
            "Total training time: 0.16 seconds.\n",
            "-- Epoch 2\n",
            "Norm: 42126.43, NNZs: 601, Bias: -326.000000, T: 67200, Avg. loss: 129710.005357\n",
            "Total training time: 0.35 seconds.\n",
            "-- Epoch 3\n",
            "Norm: 47657.56, NNZs: 606, Bias: -466.000000, T: 100800, Avg. loss: 121485.599970\n",
            "Total training time: 0.49 seconds.\n",
            "-- Epoch 4\n",
            "Norm: 53381.81, NNZs: 608, Bias: -589.000000, T: 134400, Avg. loss: 124830.879792\n",
            "Total training time: 0.55 seconds.\n",
            "-- Epoch 5\n",
            "Norm: 57446.25, NNZs: 610, Bias: -717.000000, T: 168000, Avg. loss: 123217.713780\n",
            "Total training time: 0.61 seconds.\n",
            "-- Epoch 6\n",
            "Norm: 59583.12, NNZs: 610, Bias: -832.000000, T: 201600, Avg. loss: 124839.120506\n",
            "Total training time: 0.67 seconds.\n",
            "-- Epoch 7\n",
            "Norm: 61814.28, NNZs: 611, Bias: -969.000000, T: 235200, Avg. loss: 124496.203720\n",
            "Total training time: 0.74 seconds.\n",
            "-- Epoch 8\n",
            "Norm: 64293.43, NNZs: 611, Bias: -1105.000000, T: 268800, Avg. loss: 121835.435774\n",
            "Total training time: 0.81 seconds.\n",
            "Convergence after 8 epochs took 0.81 seconds\n",
            "-- Epoch 1\n",
            "Norm: 37641.17, NNZs: 632, Bias: -63.000000, T: 33600, Avg. loss: 80582.521369\n",
            "Total training time: 0.06 seconds.\n",
            "-- Epoch 2\n",
            "Norm: 45561.48, NNZs: 643, Bias: -110.000000, T: 67200, Avg. loss: 67452.582917\n",
            "Total training time: 0.12 seconds.\n",
            "-- Epoch 3\n",
            "Norm: 51531.62, NNZs: 657, Bias: -140.000000, T: 100800, Avg. loss: 65367.227470\n",
            "Total training time: 0.18 seconds.\n",
            "-- Epoch 4\n",
            "Norm: 56796.33, NNZs: 660, Bias: -176.000000, T: 134400, Avg. loss: 61077.277024\n",
            "Total training time: 0.24 seconds.\n",
            "-- Epoch 5\n",
            "Norm: 61779.10, NNZs: 661, Bias: -220.000000, T: 168000, Avg. loss: 62217.314673\n",
            "Total training time: 0.30 seconds.\n",
            "-- Epoch 6\n",
            "Norm: 66212.86, NNZs: 665, Bias: -257.000000, T: 201600, Avg. loss: 62441.151220\n",
            "Total training time: 0.36 seconds.\n",
            "-- Epoch 7\n",
            "Norm: 70281.72, NNZs: 665, Bias: -301.000000, T: 235200, Avg. loss: 60719.254881\n",
            "Total training time: 0.42 seconds.\n",
            "-- Epoch 8\n",
            "Norm: 73357.68, NNZs: 666, Bias: -339.000000, T: 268800, Avg. loss: 59862.561071\n",
            "Total training time: 0.48 seconds.\n",
            "-- Epoch 9\n",
            "Norm: 75843.56, NNZs: 668, Bias: -382.000000, T: 302400, Avg. loss: 59100.903899\n",
            "Total training time: 0.53 seconds.\n",
            "-- Epoch 10\n",
            "Norm: 78748.74, NNZs: 668, Bias: -416.000000, T: 336000, Avg. loss: 60639.541577\n",
            "Total training time: 0.58 seconds.\n",
            "-- Epoch 11\n",
            "Norm: 80260.03, NNZs: 668, Bias: -447.000000, T: 369600, Avg. loss: 59565.494315\n",
            "Total training time: 0.64 seconds.\n",
            "-- Epoch 12\n",
            "Norm: 82765.54, NNZs: 668, Bias: -475.000000, T: 403200, Avg. loss: 58853.275179\n",
            "Total training time: 0.69 seconds.\n",
            "-- Epoch 13\n",
            "Norm: 84879.71, NNZs: 668, Bias: -510.000000, T: 436800, Avg. loss: 60189.332113\n",
            "Total training time: 0.74 seconds.\n",
            "-- Epoch 14\n",
            "Norm: 86717.81, NNZs: 668, Bias: -555.000000, T: 470400, Avg. loss: 59021.259107\n",
            "Total training time: 0.80 seconds.\n",
            "-- Epoch 15\n",
            "Norm: 88321.25, NNZs: 668, Bias: -590.000000, T: 504000, Avg. loss: 60514.877024\n",
            "Total training time: 0.85 seconds.\n",
            "-- Epoch 16\n",
            "Norm: 90614.48, NNZs: 670, Bias: -625.000000, T: 537600, Avg. loss: 58115.752589\n",
            "Total training time: 0.91 seconds.\n",
            "-- Epoch 17\n",
            "Norm: 92847.08, NNZs: 670, Bias: -663.000000, T: 571200, Avg. loss: 60877.726012\n",
            "Total training time: 0.96 seconds.\n",
            "-- Epoch 18\n",
            "Norm: 94550.09, NNZs: 671, Bias: -694.000000, T: 604800, Avg. loss: 57533.169613\n",
            "Total training time: 1.01 seconds.\n",
            "-- Epoch 19\n",
            "Norm: 95684.10, NNZs: 671, Bias: -728.000000, T: 638400, Avg. loss: 59977.879911\n",
            "Total training time: 1.06 seconds.\n",
            "-- Epoch 20\n",
            "Norm: 96928.58, NNZs: 671, Bias: -761.000000, T: 672000, Avg. loss: 60506.035565\n",
            "Total training time: 1.11 seconds.\n",
            "-- Epoch 21\n",
            "Norm: 98871.28, NNZs: 671, Bias: -799.000000, T: 705600, Avg. loss: 57912.343601\n",
            "Total training time: 1.16 seconds.\n",
            "-- Epoch 22\n",
            "Norm: 99679.73, NNZs: 671, Bias: -832.000000, T: 739200, Avg. loss: 60952.210387\n",
            "Total training time: 1.21 seconds.\n",
            "-- Epoch 23\n",
            "Norm: 100897.16, NNZs: 672, Bias: -876.000000, T: 772800, Avg. loss: 61936.474762\n",
            "Total training time: 1.26 seconds.\n",
            "Convergence after 23 epochs took 1.26 seconds\n",
            "-- Epoch 1\n",
            "Norm: 42423.66, NNZs: 606, Bias: 27.000000, T: 33600, Avg. loss: 130188.282381\n",
            "Total training time: 0.05 seconds.\n",
            "-- Epoch 2\n",
            "Norm: 51881.43, NNZs: 619, Bias: 55.000000, T: 67200, Avg. loss: 119434.731429\n",
            "Total training time: 0.10 seconds.\n",
            "-- Epoch 3\n",
            "Norm: 57337.03, NNZs: 628, Bias: 90.000000, T: 100800, Avg. loss: 113136.772054\n",
            "Total training time: 0.16 seconds.\n",
            "-- Epoch 4\n",
            "Norm: 62414.69, NNZs: 639, Bias: 123.000000, T: 134400, Avg. loss: 113143.845446\n",
            "Total training time: 0.21 seconds.\n",
            "-- Epoch 5\n",
            "Norm: 68023.43, NNZs: 640, Bias: 158.000000, T: 168000, Avg. loss: 114112.914911\n",
            "Total training time: 0.26 seconds.\n",
            "-- Epoch 6\n",
            "Norm: 71561.46, NNZs: 641, Bias: 189.000000, T: 201600, Avg. loss: 111591.199643\n",
            "Total training time: 0.32 seconds.\n",
            "-- Epoch 7\n",
            "Norm: 75066.78, NNZs: 641, Bias: 217.000000, T: 235200, Avg. loss: 110774.543542\n",
            "Total training time: 0.37 seconds.\n",
            "-- Epoch 8\n",
            "Norm: 77962.25, NNZs: 641, Bias: 250.000000, T: 268800, Avg. loss: 109275.440357\n",
            "Total training time: 0.42 seconds.\n",
            "-- Epoch 9\n",
            "Norm: 81947.15, NNZs: 641, Bias: 277.000000, T: 302400, Avg. loss: 108801.517976\n",
            "Total training time: 0.47 seconds.\n",
            "-- Epoch 10\n",
            "Norm: 84724.58, NNZs: 641, Bias: 314.000000, T: 336000, Avg. loss: 110661.619821\n",
            "Total training time: 0.52 seconds.\n",
            "-- Epoch 11\n",
            "Norm: 87225.59, NNZs: 641, Bias: 354.000000, T: 369600, Avg. loss: 108303.698780\n",
            "Total training time: 0.58 seconds.\n",
            "-- Epoch 12\n",
            "Norm: 89073.29, NNZs: 641, Bias: 389.000000, T: 403200, Avg. loss: 106832.891131\n",
            "Total training time: 0.64 seconds.\n",
            "-- Epoch 13\n",
            "Norm: 91419.32, NNZs: 641, Bias: 416.000000, T: 436800, Avg. loss: 110941.566429\n",
            "Total training time: 0.69 seconds.\n",
            "-- Epoch 14\n",
            "Norm: 93994.71, NNZs: 641, Bias: 456.000000, T: 470400, Avg. loss: 113329.592262\n",
            "Total training time: 0.74 seconds.\n",
            "-- Epoch 15\n",
            "Norm: 95985.17, NNZs: 641, Bias: 495.000000, T: 504000, Avg. loss: 109959.708244\n",
            "Total training time: 0.79 seconds.\n",
            "-- Epoch 16\n",
            "Norm: 97348.95, NNZs: 642, Bias: 524.000000, T: 537600, Avg. loss: 110222.617411\n",
            "Total training time: 0.85 seconds.\n",
            "-- Epoch 17\n",
            "Norm: 99584.26, NNZs: 641, Bias: 554.000000, T: 571200, Avg. loss: 106344.273869\n",
            "Total training time: 0.90 seconds.\n",
            "-- Epoch 18\n",
            "Norm: 101776.71, NNZs: 642, Bias: 584.000000, T: 604800, Avg. loss: 106643.082440\n",
            "Total training time: 0.95 seconds.\n",
            "-- Epoch 19\n",
            "Norm: 103208.53, NNZs: 642, Bias: 613.000000, T: 638400, Avg. loss: 108343.745804\n",
            "Total training time: 1.00 seconds.\n",
            "-- Epoch 20\n",
            "Norm: 105713.85, NNZs: 642, Bias: 639.000000, T: 672000, Avg. loss: 110997.620417\n",
            "Total training time: 1.05 seconds.\n",
            "-- Epoch 21\n",
            "Norm: 107202.41, NNZs: 642, Bias: 672.000000, T: 705600, Avg. loss: 106189.241994\n",
            "Total training time: 1.10 seconds.\n",
            "-- Epoch 22\n",
            "Norm: 109639.44, NNZs: 642, Bias: 698.000000, T: 739200, Avg. loss: 105599.439702\n",
            "Total training time: 1.16 seconds.\n",
            "-- Epoch 23\n",
            "Norm: 110812.71, NNZs: 642, Bias: 732.000000, T: 772800, Avg. loss: 107623.893661\n",
            "Total training time: 1.21 seconds.\n",
            "-- Epoch 24\n",
            "Norm: 112581.36, NNZs: 642, Bias: 765.000000, T: 806400, Avg. loss: 107060.136429\n",
            "Total training time: 1.26 seconds.\n",
            "-- Epoch 25\n",
            "Norm: 114309.41, NNZs: 642, Bias: 798.000000, T: 840000, Avg. loss: 107680.858452\n",
            "Total training time: 1.31 seconds.\n",
            "-- Epoch 26\n",
            "Norm: 116237.10, NNZs: 642, Bias: 826.000000, T: 873600, Avg. loss: 108127.371905\n",
            "Total training time: 1.36 seconds.\n",
            "-- Epoch 27\n",
            "Norm: 117243.89, NNZs: 642, Bias: 861.000000, T: 907200, Avg. loss: 107025.967768\n",
            "Total training time: 1.42 seconds.\n",
            "Convergence after 27 epochs took 1.42 seconds\n",
            "-- Epoch 1\n",
            "Norm: 32486.64, NNZs: 577, Bias: -105.000000, T: 33600, Avg. loss: 61757.694315\n",
            "Total training time: 0.05 seconds.\n",
            "-- Epoch 2\n",
            "Norm: 40534.54, NNZs: 584, Bias: -200.000000, T: 67200, Avg. loss: 56512.068690\n",
            "Total training time: 0.10 seconds.\n",
            "-- Epoch 3\n",
            "Norm: 44742.80, NNZs: 588, Bias: -287.000000, T: 100800, Avg. loss: 56831.399375\n",
            "Total training time: 0.16 seconds.\n",
            "-- Epoch 4\n",
            "Norm: 48306.09, NNZs: 589, Bias: -365.000000, T: 134400, Avg. loss: 57471.921488\n",
            "Total training time: 0.21 seconds.\n",
            "-- Epoch 5\n",
            "Norm: 51911.01, NNZs: 594, Bias: -437.000000, T: 168000, Avg. loss: 53519.729940\n",
            "Total training time: 0.26 seconds.\n",
            "-- Epoch 6\n",
            "Norm: 54449.70, NNZs: 594, Bias: -512.000000, T: 201600, Avg. loss: 56500.563304\n",
            "Total training time: 0.31 seconds.\n",
            "-- Epoch 7\n",
            "Norm: 56208.93, NNZs: 594, Bias: -591.000000, T: 235200, Avg. loss: 55719.122857\n",
            "Total training time: 0.36 seconds.\n",
            "-- Epoch 8\n",
            "Norm: 58646.84, NNZs: 595, Bias: -667.000000, T: 268800, Avg. loss: 52715.723690\n",
            "Total training time: 0.41 seconds.\n",
            "-- Epoch 9\n",
            "Norm: 61872.61, NNZs: 600, Bias: -742.000000, T: 302400, Avg. loss: 54451.783214\n",
            "Total training time: 0.46 seconds.\n",
            "-- Epoch 10\n",
            "Norm: 64386.40, NNZs: 600, Bias: -819.000000, T: 336000, Avg. loss: 54228.641726\n",
            "Total training time: 0.51 seconds.\n",
            "-- Epoch 11\n",
            "Norm: 66294.61, NNZs: 600, Bias: -896.000000, T: 369600, Avg. loss: 52856.449167\n",
            "Total training time: 0.56 seconds.\n",
            "-- Epoch 12\n",
            "Norm: 67818.78, NNZs: 600, Bias: -967.000000, T: 403200, Avg. loss: 52751.668839\n",
            "Total training time: 0.61 seconds.\n",
            "-- Epoch 13\n",
            "Norm: 69092.91, NNZs: 600, Bias: -1041.000000, T: 436800, Avg. loss: 51681.258036\n",
            "Total training time: 0.66 seconds.\n",
            "-- Epoch 14\n",
            "Norm: 71238.41, NNZs: 600, Bias: -1116.000000, T: 470400, Avg. loss: 51981.144881\n",
            "Total training time: 0.72 seconds.\n",
            "-- Epoch 15\n",
            "Norm: 72874.40, NNZs: 600, Bias: -1189.000000, T: 504000, Avg. loss: 50819.850149\n",
            "Total training time: 0.77 seconds.\n",
            "-- Epoch 16\n",
            "Norm: 74450.89, NNZs: 600, Bias: -1263.000000, T: 537600, Avg. loss: 53628.265268\n",
            "Total training time: 0.82 seconds.\n",
            "-- Epoch 17\n",
            "Norm: 76487.74, NNZs: 601, Bias: -1337.000000, T: 571200, Avg. loss: 52789.735744\n",
            "Total training time: 0.87 seconds.\n",
            "-- Epoch 18\n",
            "Norm: 77849.43, NNZs: 603, Bias: -1410.000000, T: 604800, Avg. loss: 52466.989940\n",
            "Total training time: 0.92 seconds.\n",
            "-- Epoch 19\n",
            "Norm: 79984.11, NNZs: 603, Bias: -1479.000000, T: 638400, Avg. loss: 53286.368958\n",
            "Total training time: 0.97 seconds.\n",
            "-- Epoch 20\n",
            "Norm: 80396.01, NNZs: 603, Bias: -1550.000000, T: 672000, Avg. loss: 51882.202679\n",
            "Total training time: 1.02 seconds.\n",
            "Convergence after 20 epochs took 1.02 seconds\n",
            "-- Epoch 1\n",
            "Norm: 32589.46, NNZs: 583, Bias: -17.000000, T: 33600, Avg. loss: 62025.632560\n",
            "Total training time: 0.05 seconds.\n",
            "-- Epoch 2\n",
            "Norm: 37511.93, NNZs: 609, Bias: -29.000000, T: 67200, Avg. loss: 58115.097619\n",
            "Total training time: 0.10 seconds.\n",
            "-- Epoch 3\n",
            "Norm: 42262.38, NNZs: 613, Bias: -45.000000, T: 100800, Avg. loss: 57995.263839\n",
            "Total training time: 0.16 seconds.\n",
            "-- Epoch 4\n",
            "Norm: 46423.57, NNZs: 620, Bias: -57.000000, T: 134400, Avg. loss: 58623.844851\n",
            "Total training time: 0.21 seconds.\n",
            "-- Epoch 5\n",
            "Norm: 50025.21, NNZs: 622, Bias: -63.000000, T: 168000, Avg. loss: 53911.482560\n",
            "Total training time: 0.27 seconds.\n",
            "-- Epoch 6\n",
            "Norm: 53211.32, NNZs: 620, Bias: -77.000000, T: 201600, Avg. loss: 51937.196726\n",
            "Total training time: 0.32 seconds.\n",
            "-- Epoch 7\n",
            "Norm: 56199.23, NNZs: 624, Bias: -82.000000, T: 235200, Avg. loss: 54733.387946\n",
            "Total training time: 0.37 seconds.\n",
            "-- Epoch 8\n",
            "Norm: 58992.86, NNZs: 625, Bias: -103.000000, T: 268800, Avg. loss: 52753.839226\n",
            "Total training time: 0.42 seconds.\n",
            "-- Epoch 9\n",
            "Norm: 61704.82, NNZs: 627, Bias: -111.000000, T: 302400, Avg. loss: 55863.080506\n",
            "Total training time: 0.47 seconds.\n",
            "-- Epoch 10\n",
            "Norm: 63877.60, NNZs: 632, Bias: -131.000000, T: 336000, Avg. loss: 54647.428988\n",
            "Total training time: 0.52 seconds.\n",
            "-- Epoch 11\n",
            "Norm: 66299.11, NNZs: 634, Bias: -148.000000, T: 369600, Avg. loss: 54471.431637\n",
            "Total training time: 0.58 seconds.\n",
            "Convergence after 11 epochs took 0.58 seconds\n",
            "-- Epoch 1\n",
            "Norm: 41758.03, NNZs: 625, Bias: -462.000000, T: 33600, Avg. loss: 233095.000774\n",
            "Total training time: 0.06 seconds.\n",
            "-- Epoch 2\n",
            "Norm: 50310.57, NNZs: 631, Bias: -882.000000, T: 67200, Avg. loss: 228599.348750\n",
            "Total training time: 0.12 seconds.\n",
            "-- Epoch 3\n",
            "Norm: 56368.42, NNZs: 641, Bias: -1299.000000, T: 100800, Avg. loss: 227184.443333\n",
            "Total training time: 0.18 seconds.\n",
            "-- Epoch 4\n",
            "Norm: 60403.37, NNZs: 645, Bias: -1688.000000, T: 134400, Avg. loss: 229155.082083\n",
            "Total training time: 0.23 seconds.\n",
            "-- Epoch 5\n",
            "Norm: 63372.61, NNZs: 649, Bias: -2067.000000, T: 168000, Avg. loss: 221451.627738\n",
            "Total training time: 0.29 seconds.\n",
            "-- Epoch 6\n",
            "Norm: 67369.73, NNZs: 650, Bias: -2466.000000, T: 201600, Avg. loss: 225979.830327\n",
            "Total training time: 0.34 seconds.\n",
            "-- Epoch 7\n",
            "Norm: 70718.75, NNZs: 650, Bias: -2852.000000, T: 235200, Avg. loss: 225628.723304\n",
            "Total training time: 0.40 seconds.\n",
            "-- Epoch 8\n",
            "Norm: 71812.83, NNZs: 651, Bias: -3252.000000, T: 268800, Avg. loss: 226431.173661\n",
            "Total training time: 0.45 seconds.\n",
            "-- Epoch 9\n",
            "Norm: 73696.43, NNZs: 653, Bias: -3628.000000, T: 302400, Avg. loss: 223407.070655\n",
            "Total training time: 0.51 seconds.\n",
            "-- Epoch 10\n",
            "Norm: 76871.33, NNZs: 653, Bias: -3996.000000, T: 336000, Avg. loss: 223646.291935\n",
            "Total training time: 0.56 seconds.\n",
            "Convergence after 10 epochs took 0.56 seconds\n",
            "-- Epoch 1\n",
            "Norm: 36290.84, NNZs: 625, Bias: -187.000000, T: 33600, Avg. loss: 159959.056161\n",
            "Total training time: 0.06 seconds.\n",
            "-- Epoch 2\n",
            "Norm: 44920.30, NNZs: 641, Bias: -378.000000, T: 67200, Avg. loss: 154155.718125\n",
            "Total training time: 0.11 seconds.\n",
            "-- Epoch 3\n",
            "Norm: 51342.61, NNZs: 651, Bias: -555.000000, T: 100800, Avg. loss: 150645.519911\n",
            "Total training time: 0.17 seconds.\n",
            "-- Epoch 4\n",
            "Norm: 56524.62, NNZs: 652, Bias: -729.000000, T: 134400, Avg. loss: 146213.910208\n",
            "Total training time: 0.22 seconds.\n",
            "-- Epoch 5\n",
            "Norm: 59759.74, NNZs: 652, Bias: -916.000000, T: 168000, Avg. loss: 150237.405774\n",
            "Total training time: 0.27 seconds.\n",
            "-- Epoch 6\n",
            "Norm: 63784.97, NNZs: 652, Bias: -1087.000000, T: 201600, Avg. loss: 147086.445833\n",
            "Total training time: 0.33 seconds.\n",
            "-- Epoch 7\n",
            "Norm: 65860.29, NNZs: 653, Bias: -1268.000000, T: 235200, Avg. loss: 149149.701250\n",
            "Total training time: 0.38 seconds.\n",
            "-- Epoch 8\n",
            "Norm: 67339.26, NNZs: 656, Bias: -1434.000000, T: 268800, Avg. loss: 150210.671667\n",
            "Total training time: 0.43 seconds.\n",
            "-- Epoch 9\n",
            "Norm: 69460.15, NNZs: 656, Bias: -1616.000000, T: 302400, Avg. loss: 147811.250506\n",
            "Total training time: 0.49 seconds.\n",
            "Convergence after 9 epochs took 0.49 seconds\n"
          ]
        }
      ]
    },
    {
      "cell_type": "code",
      "source": [
        "def model_eval(actual, predicted):\n",
        "  acc_score = accuracy_score(actual, predicted)\n",
        "  conf_matrix = confusion_matrix(actual, predicted)\n",
        "  clas_rep = classification_report(actual, predicted)\n",
        "  print('Model Accuracy is: ', round(acc_score, 2))\n",
        "  print(conf_matrix)\n",
        "  print(clas_rep)"
      ],
      "metadata": {
        "id": "Iw_Fg90WXRvl"
      },
      "execution_count": null,
      "outputs": []
    },
    {
      "cell_type": "code",
      "source": [
        "model_eval(y_train, preds_slp_train)"
      ],
      "metadata": {
        "colab": {
          "base_uri": "https://localhost:8080/"
        },
        "id": "AtXu_jvJXTE7",
        "outputId": "f00c12de-e606-46e7-e019-f38cc80498eb"
      },
      "execution_count": null,
      "outputs": [
        {
          "output_type": "stream",
          "name": "stdout",
          "text": [
            "Model Accuracy is:  0.89\n",
            "[[3197    0   14    5    2   31   70    1   25    2]\n",
            " [   1 3556   20    9    2    5    4    4  130    4]\n",
            " [  18    9 2961   70    9   24   34   16  193    5]\n",
            " [  19   10   83 3022    1  142   27   16  152   21]\n",
            " [   5    8  123   17 2912   19   38   17  103   34]\n",
            " [  27    3   16   78   19 2525   96    7  194   30]\n",
            " [  13    5   28    3    5   45 3122    0   46    0]\n",
            " [   7    6  134   17    7    7    6 3269   40   48]\n",
            " [  18   20   38   53    8   92   17   10 2978   12]\n",
            " [  19   15  120   63  188  119    8  298  309 2222]]\n",
            "              precision    recall  f1-score   support\n",
            "\n",
            "           0       0.96      0.96      0.96      3347\n",
            "           1       0.98      0.95      0.97      3735\n",
            "           2       0.84      0.89      0.86      3339\n",
            "           3       0.91      0.87      0.88      3493\n",
            "           4       0.92      0.89      0.91      3276\n",
            "           5       0.84      0.84      0.84      2995\n",
            "           6       0.91      0.96      0.93      3267\n",
            "           7       0.90      0.92      0.91      3541\n",
            "           8       0.71      0.92      0.80      3246\n",
            "           9       0.93      0.66      0.77      3361\n",
            "\n",
            "    accuracy                           0.89     33600\n",
            "   macro avg       0.89      0.88      0.88     33600\n",
            "weighted avg       0.89      0.89      0.89     33600\n",
            "\n"
          ]
        }
      ]
    },
    {
      "cell_type": "code",
      "source": [
        "model_eval(y_test, preds_slp_test)"
      ],
      "metadata": {
        "colab": {
          "base_uri": "https://localhost:8080/"
        },
        "id": "CzVob7EhXZBF",
        "outputId": "dbdfcf71-25c4-4a7c-e2e2-683e94270bde"
      },
      "execution_count": null,
      "outputs": [
        {
          "output_type": "stream",
          "name": "stdout",
          "text": [
            "Model Accuracy is:  0.87\n",
            "[[741   1   4   0   0  10  22   0   7   0]\n",
            " [  0 895   8   6   1   3   2   0  34   0]\n",
            " [  4   3 710  28   2   9  18   4  59   1]\n",
            " [  6   2  23 742   2  38   4   5  28   8]\n",
            " [  5   6  33   2 689   2  12   6  28  13]\n",
            " [ 12   5   4  38   3 654  21   1  58   4]\n",
            " [  3   1  12   0   0  18 823   1  12   0]\n",
            " [  4   5  32   1   2   6   0 781  15  14]\n",
            " [  6  11  15   8   2  25  10   5 732   3]\n",
            " [  5   2  37  14  62  30   0  85  82 510]]\n",
            "              precision    recall  f1-score   support\n",
            "\n",
            "           0       0.94      0.94      0.94       785\n",
            "           1       0.96      0.94      0.95       949\n",
            "           2       0.81      0.85      0.83       838\n",
            "           3       0.88      0.86      0.87       858\n",
            "           4       0.90      0.87      0.88       796\n",
            "           5       0.82      0.82      0.82       800\n",
            "           6       0.90      0.95      0.92       870\n",
            "           7       0.88      0.91      0.89       860\n",
            "           8       0.69      0.90      0.78       817\n",
            "           9       0.92      0.62      0.74       827\n",
            "\n",
            "    accuracy                           0.87      8400\n",
            "   macro avg       0.87      0.86      0.86      8400\n",
            "weighted avg       0.87      0.87      0.87      8400\n",
            "\n"
          ]
        }
      ]
    },
    {
      "cell_type": "markdown",
      "source": [
        "Multi Layer Perceptron"
      ],
      "metadata": {
        "id": "P6yy9ZKXfUrh"
      }
    },
    {
      "cell_type": "code",
      "source": [
        "mlp = MLPClassifier(hidden_layer_sizes = (128,128,128), verbose = 1, max_iter = 250)"
      ],
      "metadata": {
        "id": "S2OblKYLlW0z"
      },
      "execution_count": null,
      "outputs": []
    },
    {
      "cell_type": "code",
      "source": [
        "mlp.fit(x_train, y_train)\n",
        "preds_mlp_train = mlp.predict(x_train)\n",
        "preds_mlp_test = mlp.predict(x_test)"
      ],
      "metadata": {
        "colab": {
          "base_uri": "https://localhost:8080/"
        },
        "id": "PSoiLIZRlpQu",
        "outputId": "01bfcdbe-e996-4954-eb8a-1aa2dd278d87"
      },
      "execution_count": null,
      "outputs": [
        {
          "output_type": "stream",
          "name": "stdout",
          "text": [
            "Iteration 1, loss = 2.26802303\n",
            "Iteration 2, loss = 0.44589599\n",
            "Iteration 3, loss = 0.24860829\n",
            "Iteration 4, loss = 0.16638868\n",
            "Iteration 5, loss = 0.11792115\n",
            "Iteration 6, loss = 0.08863058\n",
            "Iteration 7, loss = 0.06647433\n",
            "Iteration 8, loss = 0.05587760\n",
            "Iteration 9, loss = 0.04449170\n",
            "Iteration 10, loss = 0.04395358\n",
            "Iteration 11, loss = 0.07573449\n",
            "Iteration 12, loss = 0.09371198\n",
            "Iteration 13, loss = 0.06697578\n",
            "Iteration 14, loss = 0.05496651\n",
            "Iteration 15, loss = 0.05069408\n",
            "Iteration 16, loss = 0.05344063\n",
            "Iteration 17, loss = 0.07429166\n",
            "Iteration 18, loss = 0.07570996\n",
            "Iteration 19, loss = 0.04906055\n",
            "Iteration 20, loss = 0.03999927\n",
            "Iteration 21, loss = 0.04174673\n",
            "Iteration 22, loss = 0.05188337\n",
            "Iteration 23, loss = 0.05684120\n",
            "Iteration 24, loss = 0.03968476\n",
            "Iteration 25, loss = 0.05446370\n",
            "Iteration 26, loss = 0.05171851\n",
            "Iteration 27, loss = 0.06138323\n",
            "Iteration 28, loss = 0.05548371\n",
            "Iteration 29, loss = 0.02683409\n",
            "Iteration 30, loss = 0.03034171\n",
            "Iteration 31, loss = 0.03795806\n",
            "Iteration 32, loss = 0.03586723\n",
            "Iteration 33, loss = 0.05084861\n",
            "Iteration 34, loss = 0.03537676\n",
            "Iteration 35, loss = 0.02557258\n",
            "Iteration 36, loss = 0.03490464\n",
            "Iteration 37, loss = 0.02982270\n",
            "Iteration 38, loss = 0.02513046\n",
            "Iteration 39, loss = 0.02472185\n",
            "Iteration 40, loss = 0.03612902\n",
            "Iteration 41, loss = 0.01923118\n",
            "Iteration 42, loss = 0.02625349\n",
            "Iteration 43, loss = 0.02608031\n",
            "Iteration 44, loss = 0.03609090\n",
            "Iteration 45, loss = 0.02581839\n",
            "Iteration 46, loss = 0.02687214\n",
            "Iteration 47, loss = 0.02527903\n",
            "Iteration 48, loss = 0.02469598\n",
            "Iteration 49, loss = 0.03022363\n",
            "Iteration 50, loss = 0.04121152\n",
            "Iteration 51, loss = 0.02229246\n",
            "Iteration 52, loss = 0.01623795\n",
            "Iteration 53, loss = 0.01424689\n",
            "Iteration 54, loss = 0.02720724\n",
            "Iteration 55, loss = 0.02100349\n",
            "Iteration 56, loss = 0.02255745\n",
            "Iteration 57, loss = 0.02115083\n",
            "Iteration 58, loss = 0.01366886\n",
            "Iteration 59, loss = 0.02599021\n",
            "Iteration 60, loss = 0.03397277\n",
            "Iteration 61, loss = 0.03533959\n",
            "Iteration 62, loss = 0.01388304\n",
            "Iteration 63, loss = 0.01061506\n",
            "Iteration 64, loss = 0.00738181\n",
            "Iteration 65, loss = 0.00383877\n",
            "Iteration 66, loss = 0.01681527\n",
            "Iteration 67, loss = 0.03044301\n",
            "Iteration 68, loss = 0.04110884\n",
            "Iteration 69, loss = 0.03440702\n",
            "Iteration 70, loss = 0.01784667\n",
            "Iteration 71, loss = 0.01469287\n",
            "Iteration 72, loss = 0.01156442\n",
            "Iteration 73, loss = 0.00673330\n",
            "Iteration 74, loss = 0.00722549\n",
            "Iteration 75, loss = 0.00408618\n",
            "Iteration 76, loss = 0.01989995\n",
            "Training loss did not improve more than tol=0.000100 for 10 consecutive epochs. Stopping.\n"
          ]
        }
      ]
    },
    {
      "cell_type": "code",
      "source": [
        "model_eval(y_train, preds_mlp_train)"
      ],
      "metadata": {
        "colab": {
          "base_uri": "https://localhost:8080/"
        },
        "id": "56xplvS_mtGx",
        "outputId": "ebcfa3f1-7e77-42e2-ae88-07be6a475bab"
      },
      "execution_count": null,
      "outputs": [
        {
          "output_type": "stream",
          "name": "stdout",
          "text": [
            "Model Accuracy is:  1.0\n",
            "[[3302    1    6    0    1    3   21    0   13    0]\n",
            " [   0 3734    0    0    0    0    0    1    0    0]\n",
            " [   0    1 3326    6    0    1    0    2    3    0]\n",
            " [   0    1    3 3475    0   11    0    0    2    1]\n",
            " [   0    0    3    1 3262    0    4    0    2    4]\n",
            " [   0    0    0    0    0 2992    2    1    0    0]\n",
            " [   1    0    1    0    0    2 3263    0    0    0]\n",
            " [   0    1    4    1    0    0    0 3534    0    1]\n",
            " [   0    0    5   11    0    3    0    0 3224    3]\n",
            " [   0    0    1    3    3    3    0    1    1 3349]]\n",
            "              precision    recall  f1-score   support\n",
            "\n",
            "           0       1.00      0.99      0.99      3347\n",
            "           1       1.00      1.00      1.00      3735\n",
            "           2       0.99      1.00      0.99      3339\n",
            "           3       0.99      0.99      0.99      3493\n",
            "           4       1.00      1.00      1.00      3276\n",
            "           5       0.99      1.00      1.00      2995\n",
            "           6       0.99      1.00      1.00      3267\n",
            "           7       1.00      1.00      1.00      3541\n",
            "           8       0.99      0.99      0.99      3246\n",
            "           9       1.00      1.00      1.00      3361\n",
            "\n",
            "    accuracy                           1.00     33600\n",
            "   macro avg       1.00      1.00      1.00     33600\n",
            "weighted avg       1.00      1.00      1.00     33600\n",
            "\n"
          ]
        }
      ]
    },
    {
      "cell_type": "code",
      "source": [
        "model_eval(preds_mlp_test, y_test)"
      ],
      "metadata": {
        "colab": {
          "base_uri": "https://localhost:8080/"
        },
        "id": "nt9Hw3rym1Rd",
        "outputId": "63857483-abb2-4749-c55a-4347a1caf2b3"
      },
      "execution_count": null,
      "outputs": [
        {
          "output_type": "stream",
          "name": "stdout",
          "text": [
            "Model Accuracy is:  0.97\n",
            "[[759   0   1   0   0   1   2   0   1   2]\n",
            " [  0 939   3   0   5   0   1   2   3   0]\n",
            " [  5   3 810   4   2   1   0  11   3   0]\n",
            " [  0   3  12 831   0  11   0   5   7   6]\n",
            " [  0   0   1   0 763   1   1   4   1  11]\n",
            " [  1   0   0  13   0 776   6   1   8  10]\n",
            " [ 11   1   3   0   7   2 859   0   6   0]\n",
            " [  2   0   4   4   3   0   1 830   1  11]\n",
            " [  5   3   3   5   3   6   0   1 784   3]\n",
            " [  2   0   1   1  13   2   0   6   3 784]]\n",
            "              precision    recall  f1-score   support\n",
            "\n",
            "           0       0.97      0.99      0.98       766\n",
            "           1       0.99      0.99      0.99       953\n",
            "           2       0.97      0.97      0.97       839\n",
            "           3       0.97      0.95      0.96       875\n",
            "           4       0.96      0.98      0.97       782\n",
            "           5       0.97      0.95      0.96       815\n",
            "           6       0.99      0.97      0.98       889\n",
            "           7       0.97      0.97      0.97       856\n",
            "           8       0.96      0.96      0.96       813\n",
            "           9       0.95      0.97      0.96       812\n",
            "\n",
            "    accuracy                           0.97      8400\n",
            "   macro avg       0.97      0.97      0.97      8400\n",
            "weighted avg       0.97      0.97      0.97      8400\n",
            "\n"
          ]
        }
      ]
    },
    {
      "cell_type": "markdown",
      "source": [
        "# Implementation using TensorFlow"
      ],
      "metadata": {
        "id": "Ucu9MCVriuQR"
      }
    },
    {
      "cell_type": "markdown",
      "source": [
        "Load the TensorFlow Libraries"
      ],
      "metadata": {
        "id": "cmtjmCszmv4l"
      }
    },
    {
      "cell_type": "code",
      "source": [
        "import tensorflow as tf\n",
        "from keras.models import Sequential\n",
        "from keras.layers import Dense, Dropout\n",
        "from keras.optimizers import SGD, Adam\n",
        "from keras.losses import CategoricalCrossentropy\n",
        "from tensorflow.keras.utils import to_categorical"
      ],
      "metadata": {
        "id": "Gb83aSm3l78K"
      },
      "execution_count": null,
      "outputs": []
    },
    {
      "cell_type": "markdown",
      "source": [
        "Declare the model: Sequential or Functional"
      ],
      "metadata": {
        "id": "P8Mg7r9LneRC"
      }
    },
    {
      "cell_type": "code",
      "source": [
        "model = Sequential()"
      ],
      "metadata": {
        "id": "35V1SjHRniGK"
      },
      "execution_count": null,
      "outputs": []
    },
    {
      "cell_type": "markdown",
      "source": [
        "Declare the Layers: Dense"
      ],
      "metadata": {
        "id": "lRJ39y5jnpQM"
      }
    },
    {
      "cell_type": "code",
      "source": [
        "model.add(Dense(256, activation = 'relu', input_dim = 784))\n",
        "model.add(Dense(256, activation = 'relu'))\n",
        "model.add(Dense(256, activation = 'relu'))\n",
        "model.add(Dense(10, activation = 'softmax'))"
      ],
      "metadata": {
        "id": "KySWMYAJnnx2"
      },
      "execution_count": null,
      "outputs": []
    },
    {
      "cell_type": "code",
      "source": [
        "model.summary()"
      ],
      "metadata": {
        "colab": {
          "base_uri": "https://localhost:8080/"
        },
        "id": "FOgRTiP7rHJ4",
        "outputId": "a539d830-935b-42ff-a590-b57d02d7b50b"
      },
      "execution_count": null,
      "outputs": [
        {
          "output_type": "stream",
          "name": "stdout",
          "text": [
            "Model: \"sequential\"\n",
            "_________________________________________________________________\n",
            " Layer (type)                Output Shape              Param #   \n",
            "=================================================================\n",
            " dense (Dense)               (None, 256)               200960    \n",
            "                                                                 \n",
            " dense_1 (Dense)             (None, 256)               65792     \n",
            "                                                                 \n",
            " dense_2 (Dense)             (None, 256)               65792     \n",
            "                                                                 \n",
            " dense_3 (Dense)             (None, 10)                2570      \n",
            "                                                                 \n",
            "=================================================================\n",
            "Total params: 335,114\n",
            "Trainable params: 335,114\n",
            "Non-trainable params: 0\n",
            "_________________________________________________________________\n"
          ]
        }
      ]
    },
    {
      "cell_type": "markdown",
      "source": [
        "Compile the model"
      ],
      "metadata": {
        "id": "9tuPRrlnskL9"
      }
    },
    {
      "cell_type": "code",
      "source": [
        "model.compile(optimizer = 'Adam', loss = 'categorical_crossentropy', metrics =['accuracy'])"
      ],
      "metadata": {
        "id": "4cu31BVwsl8C"
      },
      "execution_count": null,
      "outputs": []
    },
    {
      "cell_type": "markdown",
      "source": [
        "Fit the model"
      ],
      "metadata": {
        "id": "EXrpLCfFzsqi"
      }
    },
    {
      "cell_type": "code",
      "source": [
        "y_train_ohe = to_categorical(y_train)\n",
        "y_test_ohe = to_categorical(y_test)"
      ],
      "metadata": {
        "id": "aNUzYhIJzuvN"
      },
      "execution_count": null,
      "outputs": []
    },
    {
      "cell_type": "code",
      "source": [
        "print(y_train.shape)\n",
        "print(y_train_ohe.shape)"
      ],
      "metadata": {
        "colab": {
          "base_uri": "https://localhost:8080/"
        },
        "id": "cl7xAQXh0Ate",
        "outputId": "404e1a65-9a77-4998-e17a-2925cd507d8f"
      },
      "execution_count": null,
      "outputs": [
        {
          "output_type": "stream",
          "name": "stdout",
          "text": [
            "(33600,)\n",
            "(33600, 10)\n"
          ]
        }
      ]
    },
    {
      "cell_type": "code",
      "source": [
        "y_train_ohe"
      ],
      "metadata": {
        "colab": {
          "base_uri": "https://localhost:8080/"
        },
        "id": "TWi7RXMH0GN3",
        "outputId": "89a9b097-2dc3-44e2-8043-04ff66aab873"
      },
      "execution_count": null,
      "outputs": [
        {
          "output_type": "execute_result",
          "data": {
            "text/plain": [
              "array([[0., 0., 1., ..., 0., 0., 0.],\n",
              "       [0., 0., 0., ..., 0., 0., 1.],\n",
              "       [0., 0., 1., ..., 0., 0., 0.],\n",
              "       ...,\n",
              "       [0., 0., 0., ..., 0., 0., 1.],\n",
              "       [0., 0., 0., ..., 0., 0., 0.],\n",
              "       [0., 0., 0., ..., 1., 0., 0.]], dtype=float32)"
            ]
          },
          "metadata": {},
          "execution_count": 17
        }
      ]
    },
    {
      "cell_type": "code",
      "source": [
        "y_train"
      ],
      "metadata": {
        "colab": {
          "base_uri": "https://localhost:8080/"
        },
        "id": "Td4HdEgk0K0J",
        "outputId": "1d27df65-05a0-4ed7-89fc-e8952eff257d"
      },
      "execution_count": null,
      "outputs": [
        {
          "output_type": "execute_result",
          "data": {
            "text/plain": [
              "40572    2\n",
              "20883    9\n",
              "3479     2\n",
              "34084    1\n",
              "2067     5\n",
              "        ..\n",
              "7763     0\n",
              "15377    7\n",
              "17730    9\n",
              "28030    6\n",
              "15725    7\n",
              "Name: label, Length: 33600, dtype: int64"
            ]
          },
          "metadata": {},
          "execution_count": 18
        }
      ]
    },
    {
      "cell_type": "code",
      "source": [
        "hist = model.fit(x_train, y_train_ohe,validation_data = (x_test, y_test_ohe), epochs = 150, batch_size = 64, verbose = 2)"
      ],
      "metadata": {
        "colab": {
          "base_uri": "https://localhost:8080/"
        },
        "id": "tnK_0rNA0YO3",
        "outputId": "b1eb7808-6e12-47f0-dcbb-c4264e9b99cc"
      },
      "execution_count": null,
      "outputs": [
        {
          "output_type": "stream",
          "name": "stdout",
          "text": [
            "Epoch 1/150\n",
            "525/525 - 4s - loss: 1.6186 - accuracy: 0.8690 - val_loss: 0.4574 - val_accuracy: 0.9137 - 4s/epoch - 8ms/step\n",
            "Epoch 2/150\n",
            "525/525 - 3s - loss: 0.2848 - accuracy: 0.9374 - val_loss: 0.3210 - val_accuracy: 0.9368 - 3s/epoch - 5ms/step\n",
            "Epoch 3/150\n",
            "525/525 - 3s - loss: 0.2101 - accuracy: 0.9493 - val_loss: 0.2587 - val_accuracy: 0.9452 - 3s/epoch - 5ms/step\n",
            "Epoch 4/150\n",
            "525/525 - 3s - loss: 0.1504 - accuracy: 0.9606 - val_loss: 0.2522 - val_accuracy: 0.9456 - 3s/epoch - 6ms/step\n",
            "Epoch 5/150\n",
            "525/525 - 3s - loss: 0.1385 - accuracy: 0.9625 - val_loss: 0.3152 - val_accuracy: 0.9413 - 3s/epoch - 5ms/step\n",
            "Epoch 6/150\n",
            "525/525 - 3s - loss: 0.1234 - accuracy: 0.9676 - val_loss: 0.2098 - val_accuracy: 0.9546 - 3s/epoch - 5ms/step\n",
            "Epoch 7/150\n",
            "525/525 - 3s - loss: 0.0960 - accuracy: 0.9732 - val_loss: 0.2394 - val_accuracy: 0.9476 - 3s/epoch - 5ms/step\n",
            "Epoch 8/150\n",
            "525/525 - 3s - loss: 0.0857 - accuracy: 0.9751 - val_loss: 0.2353 - val_accuracy: 0.9507 - 3s/epoch - 6ms/step\n",
            "Epoch 9/150\n",
            "525/525 - 3s - loss: 0.0883 - accuracy: 0.9756 - val_loss: 0.2065 - val_accuracy: 0.9568 - 3s/epoch - 5ms/step\n",
            "Epoch 10/150\n",
            "525/525 - 3s - loss: 0.0934 - accuracy: 0.9750 - val_loss: 0.1887 - val_accuracy: 0.9585 - 3s/epoch - 5ms/step\n",
            "Epoch 11/150\n",
            "525/525 - 3s - loss: 0.0782 - accuracy: 0.9778 - val_loss: 0.2161 - val_accuracy: 0.9558 - 3s/epoch - 5ms/step\n",
            "Epoch 12/150\n",
            "525/525 - 3s - loss: 0.0690 - accuracy: 0.9802 - val_loss: 0.1617 - val_accuracy: 0.9662 - 3s/epoch - 6ms/step\n",
            "Epoch 13/150\n",
            "525/525 - 3s - loss: 0.0660 - accuracy: 0.9815 - val_loss: 0.1679 - val_accuracy: 0.9604 - 3s/epoch - 5ms/step\n",
            "Epoch 14/150\n",
            "525/525 - 3s - loss: 0.0668 - accuracy: 0.9818 - val_loss: 0.1715 - val_accuracy: 0.9657 - 3s/epoch - 5ms/step\n",
            "Epoch 15/150\n",
            "525/525 - 3s - loss: 0.0588 - accuracy: 0.9834 - val_loss: 0.1569 - val_accuracy: 0.9674 - 3s/epoch - 5ms/step\n",
            "Epoch 16/150\n",
            "525/525 - 3s - loss: 0.0576 - accuracy: 0.9840 - val_loss: 0.2205 - val_accuracy: 0.9595 - 3s/epoch - 6ms/step\n",
            "Epoch 17/150\n",
            "525/525 - 3s - loss: 0.0565 - accuracy: 0.9843 - val_loss: 0.1632 - val_accuracy: 0.9670 - 3s/epoch - 5ms/step\n",
            "Epoch 18/150\n",
            "525/525 - 3s - loss: 0.0542 - accuracy: 0.9849 - val_loss: 0.2126 - val_accuracy: 0.9619 - 3s/epoch - 5ms/step\n",
            "Epoch 19/150\n",
            "525/525 - 3s - loss: 0.0536 - accuracy: 0.9860 - val_loss: 0.2157 - val_accuracy: 0.9613 - 3s/epoch - 5ms/step\n",
            "Epoch 20/150\n",
            "525/525 - 3s - loss: 0.0484 - accuracy: 0.9871 - val_loss: 0.2033 - val_accuracy: 0.9664 - 3s/epoch - 6ms/step\n",
            "Epoch 21/150\n",
            "525/525 - 3s - loss: 0.0459 - accuracy: 0.9886 - val_loss: 0.2081 - val_accuracy: 0.9644 - 3s/epoch - 5ms/step\n",
            "Epoch 22/150\n",
            "525/525 - 3s - loss: 0.0474 - accuracy: 0.9880 - val_loss: 0.1663 - val_accuracy: 0.9685 - 3s/epoch - 5ms/step\n",
            "Epoch 23/150\n",
            "525/525 - 3s - loss: 0.0457 - accuracy: 0.9887 - val_loss: 0.2180 - val_accuracy: 0.9724 - 3s/epoch - 5ms/step\n",
            "Epoch 24/150\n",
            "525/525 - 3s - loss: 0.0441 - accuracy: 0.9889 - val_loss: 0.1870 - val_accuracy: 0.9712 - 3s/epoch - 7ms/step\n",
            "Epoch 25/150\n",
            "525/525 - 3s - loss: 0.0412 - accuracy: 0.9891 - val_loss: 0.2824 - val_accuracy: 0.9654 - 3s/epoch - 5ms/step\n",
            "Epoch 26/150\n",
            "525/525 - 3s - loss: 0.0290 - accuracy: 0.9926 - val_loss: 0.1919 - val_accuracy: 0.9720 - 3s/epoch - 5ms/step\n",
            "Epoch 27/150\n",
            "525/525 - 3s - loss: 0.0288 - accuracy: 0.9925 - val_loss: 0.2302 - val_accuracy: 0.9729 - 3s/epoch - 5ms/step\n",
            "Epoch 28/150\n",
            "525/525 - 3s - loss: 0.0422 - accuracy: 0.9904 - val_loss: 0.2363 - val_accuracy: 0.9682 - 3s/epoch - 6ms/step\n",
            "Epoch 29/150\n",
            "525/525 - 3s - loss: 0.0428 - accuracy: 0.9896 - val_loss: 0.2346 - val_accuracy: 0.9736 - 3s/epoch - 5ms/step\n",
            "Epoch 30/150\n",
            "525/525 - 3s - loss: 0.0508 - accuracy: 0.9901 - val_loss: 0.2256 - val_accuracy: 0.9700 - 3s/epoch - 5ms/step\n",
            "Epoch 31/150\n",
            "525/525 - 3s - loss: 0.0295 - accuracy: 0.9924 - val_loss: 0.2273 - val_accuracy: 0.9692 - 3s/epoch - 5ms/step\n",
            "Epoch 32/150\n",
            "525/525 - 3s - loss: 0.0321 - accuracy: 0.9928 - val_loss: 0.2470 - val_accuracy: 0.9669 - 3s/epoch - 6ms/step\n",
            "Epoch 33/150\n",
            "525/525 - 3s - loss: 0.0380 - accuracy: 0.9920 - val_loss: 0.2467 - val_accuracy: 0.9680 - 3s/epoch - 5ms/step\n",
            "Epoch 34/150\n",
            "525/525 - 3s - loss: 0.0275 - accuracy: 0.9937 - val_loss: 0.2178 - val_accuracy: 0.9713 - 3s/epoch - 5ms/step\n",
            "Epoch 35/150\n",
            "525/525 - 3s - loss: 0.0254 - accuracy: 0.9942 - val_loss: 0.2169 - val_accuracy: 0.9745 - 3s/epoch - 5ms/step\n",
            "Epoch 36/150\n",
            "525/525 - 4s - loss: 0.0346 - accuracy: 0.9926 - val_loss: 0.2676 - val_accuracy: 0.9670 - 4s/epoch - 7ms/step\n",
            "Epoch 37/150\n",
            "525/525 - 3s - loss: 0.0403 - accuracy: 0.9917 - val_loss: 0.1750 - val_accuracy: 0.9745 - 3s/epoch - 5ms/step\n",
            "Epoch 38/150\n",
            "525/525 - 3s - loss: 0.0150 - accuracy: 0.9962 - val_loss: 0.2199 - val_accuracy: 0.9735 - 3s/epoch - 5ms/step\n",
            "Epoch 39/150\n",
            "525/525 - 3s - loss: 0.0199 - accuracy: 0.9958 - val_loss: 0.2618 - val_accuracy: 0.9735 - 3s/epoch - 5ms/step\n",
            "Epoch 40/150\n",
            "525/525 - 3s - loss: 0.0273 - accuracy: 0.9946 - val_loss: 0.2961 - val_accuracy: 0.9724 - 3s/epoch - 6ms/step\n",
            "Epoch 41/150\n",
            "525/525 - 3s - loss: 0.0395 - accuracy: 0.9924 - val_loss: 0.2847 - val_accuracy: 0.9726 - 3s/epoch - 5ms/step\n",
            "Epoch 42/150\n",
            "525/525 - 3s - loss: 0.0312 - accuracy: 0.9932 - val_loss: 0.2314 - val_accuracy: 0.9702 - 3s/epoch - 6ms/step\n",
            "Epoch 43/150\n",
            "525/525 - 3s - loss: 0.0196 - accuracy: 0.9956 - val_loss: 0.2808 - val_accuracy: 0.9718 - 3s/epoch - 5ms/step\n",
            "Epoch 44/150\n",
            "525/525 - 3s - loss: 0.0223 - accuracy: 0.9953 - val_loss: 0.3017 - val_accuracy: 0.9708 - 3s/epoch - 6ms/step\n",
            "Epoch 45/150\n",
            "525/525 - 3s - loss: 0.0325 - accuracy: 0.9937 - val_loss: 0.2766 - val_accuracy: 0.9726 - 3s/epoch - 5ms/step\n",
            "Epoch 46/150\n",
            "525/525 - 3s - loss: 0.0245 - accuracy: 0.9954 - val_loss: 0.2934 - val_accuracy: 0.9720 - 3s/epoch - 5ms/step\n",
            "Epoch 47/150\n",
            "525/525 - 3s - loss: 0.0349 - accuracy: 0.9938 - val_loss: 0.2670 - val_accuracy: 0.9743 - 3s/epoch - 5ms/step\n",
            "Epoch 48/150\n",
            "525/525 - 3s - loss: 0.0161 - accuracy: 0.9972 - val_loss: 0.2535 - val_accuracy: 0.9775 - 3s/epoch - 7ms/step\n",
            "Epoch 49/150\n",
            "525/525 - 3s - loss: 0.0237 - accuracy: 0.9957 - val_loss: 0.2460 - val_accuracy: 0.9721 - 3s/epoch - 5ms/step\n",
            "Epoch 50/150\n",
            "525/525 - 3s - loss: 0.0197 - accuracy: 0.9958 - val_loss: 0.2852 - val_accuracy: 0.9744 - 3s/epoch - 5ms/step\n",
            "Epoch 51/150\n",
            "525/525 - 3s - loss: 0.0241 - accuracy: 0.9960 - val_loss: 0.3110 - val_accuracy: 0.9720 - 3s/epoch - 5ms/step\n",
            "Epoch 52/150\n",
            "525/525 - 3s - loss: 0.0301 - accuracy: 0.9944 - val_loss: 0.3431 - val_accuracy: 0.9704 - 3s/epoch - 7ms/step\n",
            "Epoch 53/150\n",
            "525/525 - 3s - loss: 0.0275 - accuracy: 0.9951 - val_loss: 0.2659 - val_accuracy: 0.9738 - 3s/epoch - 6ms/step\n",
            "Epoch 54/150\n",
            "525/525 - 3s - loss: 0.0091 - accuracy: 0.9981 - val_loss: 0.2931 - val_accuracy: 0.9756 - 3s/epoch - 5ms/step\n",
            "Epoch 55/150\n",
            "525/525 - 3s - loss: 0.0224 - accuracy: 0.9961 - val_loss: 0.3481 - val_accuracy: 0.9698 - 3s/epoch - 5ms/step\n",
            "Epoch 56/150\n",
            "525/525 - 4s - loss: 0.0414 - accuracy: 0.9930 - val_loss: 0.3207 - val_accuracy: 0.9729 - 4s/epoch - 7ms/step\n",
            "Epoch 57/150\n",
            "525/525 - 3s - loss: 0.0272 - accuracy: 0.9958 - val_loss: 0.2499 - val_accuracy: 0.9774 - 3s/epoch - 5ms/step\n",
            "Epoch 58/150\n",
            "525/525 - 3s - loss: 0.0156 - accuracy: 0.9978 - val_loss: 0.2659 - val_accuracy: 0.9769 - 3s/epoch - 5ms/step\n",
            "Epoch 59/150\n",
            "525/525 - 3s - loss: 0.0219 - accuracy: 0.9965 - val_loss: 0.2741 - val_accuracy: 0.9724 - 3s/epoch - 6ms/step\n",
            "Epoch 60/150\n",
            "525/525 - 3s - loss: 0.0224 - accuracy: 0.9960 - val_loss: 0.2826 - val_accuracy: 0.9751 - 3s/epoch - 6ms/step\n",
            "Epoch 61/150\n",
            "525/525 - 3s - loss: 0.0198 - accuracy: 0.9964 - val_loss: 0.2598 - val_accuracy: 0.9765 - 3s/epoch - 5ms/step\n",
            "Epoch 62/150\n",
            "525/525 - 3s - loss: 0.0185 - accuracy: 0.9968 - val_loss: 0.2409 - val_accuracy: 0.9739 - 3s/epoch - 5ms/step\n",
            "Epoch 63/150\n",
            "525/525 - 3s - loss: 0.0213 - accuracy: 0.9965 - val_loss: 0.2613 - val_accuracy: 0.9735 - 3s/epoch - 6ms/step\n",
            "Epoch 64/150\n",
            "525/525 - 3s - loss: 0.0193 - accuracy: 0.9967 - val_loss: 0.3844 - val_accuracy: 0.9732 - 3s/epoch - 5ms/step\n",
            "Epoch 65/150\n",
            "525/525 - 3s - loss: 0.0296 - accuracy: 0.9954 - val_loss: 0.2962 - val_accuracy: 0.9718 - 3s/epoch - 5ms/step\n",
            "Epoch 66/150\n",
            "525/525 - 3s - loss: 0.0172 - accuracy: 0.9968 - val_loss: 0.3195 - val_accuracy: 0.9744 - 3s/epoch - 5ms/step\n",
            "Epoch 67/150\n",
            "525/525 - 3s - loss: 0.0159 - accuracy: 0.9973 - val_loss: 0.3139 - val_accuracy: 0.9758 - 3s/epoch - 6ms/step\n",
            "Epoch 68/150\n",
            "525/525 - 3s - loss: 0.0262 - accuracy: 0.9959 - val_loss: 0.3536 - val_accuracy: 0.9719 - 3s/epoch - 6ms/step\n",
            "Epoch 69/150\n",
            "525/525 - 3s - loss: 0.0266 - accuracy: 0.9956 - val_loss: 0.3640 - val_accuracy: 0.9745 - 3s/epoch - 5ms/step\n",
            "Epoch 70/150\n",
            "525/525 - 3s - loss: 0.0114 - accuracy: 0.9981 - val_loss: 0.3425 - val_accuracy: 0.9742 - 3s/epoch - 5ms/step\n",
            "Epoch 71/150\n",
            "525/525 - 3s - loss: 0.0115 - accuracy: 0.9979 - val_loss: 0.3812 - val_accuracy: 0.9746 - 3s/epoch - 6ms/step\n",
            "Epoch 72/150\n",
            "525/525 - 3s - loss: 0.0168 - accuracy: 0.9976 - val_loss: 0.4195 - val_accuracy: 0.9685 - 3s/epoch - 6ms/step\n",
            "Epoch 73/150\n",
            "525/525 - 3s - loss: 0.0193 - accuracy: 0.9968 - val_loss: 0.3302 - val_accuracy: 0.9769 - 3s/epoch - 5ms/step\n",
            "Epoch 74/150\n",
            "525/525 - 3s - loss: 0.0183 - accuracy: 0.9971 - val_loss: 0.3780 - val_accuracy: 0.9742 - 3s/epoch - 5ms/step\n",
            "Epoch 75/150\n",
            "525/525 - 3s - loss: 0.0206 - accuracy: 0.9963 - val_loss: 0.3793 - val_accuracy: 0.9669 - 3s/epoch - 7ms/step\n",
            "Epoch 76/150\n",
            "525/525 - 3s - loss: 0.0418 - accuracy: 0.9940 - val_loss: 0.4686 - val_accuracy: 0.9713 - 3s/epoch - 5ms/step\n",
            "Epoch 77/150\n",
            "525/525 - 3s - loss: 0.0348 - accuracy: 0.9943 - val_loss: 0.3651 - val_accuracy: 0.9764 - 3s/epoch - 5ms/step\n",
            "Epoch 78/150\n",
            "525/525 - 3s - loss: 0.0189 - accuracy: 0.9971 - val_loss: 0.3663 - val_accuracy: 0.9742 - 3s/epoch - 5ms/step\n",
            "Epoch 79/150\n",
            "525/525 - 3s - loss: 0.0237 - accuracy: 0.9968 - val_loss: 0.3693 - val_accuracy: 0.9756 - 3s/epoch - 7ms/step\n",
            "Epoch 80/150\n",
            "525/525 - 3s - loss: 0.0274 - accuracy: 0.9952 - val_loss: 0.3752 - val_accuracy: 0.9714 - 3s/epoch - 6ms/step\n",
            "Epoch 81/150\n",
            "525/525 - 3s - loss: 0.0203 - accuracy: 0.9966 - val_loss: 0.4701 - val_accuracy: 0.9769 - 3s/epoch - 5ms/step\n",
            "Epoch 82/150\n",
            "525/525 - 3s - loss: 0.0172 - accuracy: 0.9971 - val_loss: 0.3828 - val_accuracy: 0.9746 - 3s/epoch - 5ms/step\n",
            "Epoch 83/150\n",
            "525/525 - 3s - loss: 0.0112 - accuracy: 0.9976 - val_loss: 0.3867 - val_accuracy: 0.9754 - 3s/epoch - 6ms/step\n",
            "Epoch 84/150\n",
            "525/525 - 3s - loss: 0.0150 - accuracy: 0.9977 - val_loss: 0.3450 - val_accuracy: 0.9742 - 3s/epoch - 5ms/step\n",
            "Epoch 85/150\n",
            "525/525 - 3s - loss: 0.0241 - accuracy: 0.9957 - val_loss: 0.3661 - val_accuracy: 0.9752 - 3s/epoch - 6ms/step\n",
            "Epoch 86/150\n",
            "525/525 - 3s - loss: 0.0313 - accuracy: 0.9959 - val_loss: 0.5057 - val_accuracy: 0.9671 - 3s/epoch - 6ms/step\n",
            "Epoch 87/150\n",
            "525/525 - 3s - loss: 0.0289 - accuracy: 0.9961 - val_loss: 0.3988 - val_accuracy: 0.9719 - 3s/epoch - 6ms/step\n",
            "Epoch 88/150\n",
            "525/525 - 3s - loss: 0.0222 - accuracy: 0.9965 - val_loss: 0.3234 - val_accuracy: 0.9727 - 3s/epoch - 5ms/step\n",
            "Epoch 89/150\n",
            "525/525 - 3s - loss: 0.0138 - accuracy: 0.9981 - val_loss: 0.3737 - val_accuracy: 0.9705 - 3s/epoch - 5ms/step\n",
            "Epoch 90/150\n",
            "525/525 - 3s - loss: 0.0190 - accuracy: 0.9963 - val_loss: 0.4021 - val_accuracy: 0.9740 - 3s/epoch - 6ms/step\n",
            "Epoch 91/150\n",
            "525/525 - 3s - loss: 0.0146 - accuracy: 0.9974 - val_loss: 0.3771 - val_accuracy: 0.9750 - 3s/epoch - 6ms/step\n",
            "Epoch 92/150\n",
            "525/525 - 3s - loss: 0.0193 - accuracy: 0.9966 - val_loss: 0.4010 - val_accuracy: 0.9715 - 3s/epoch - 6ms/step\n",
            "Epoch 93/150\n",
            "525/525 - 3s - loss: 0.0224 - accuracy: 0.9959 - val_loss: 0.4864 - val_accuracy: 0.9701 - 3s/epoch - 5ms/step\n",
            "Epoch 94/150\n",
            "525/525 - 3s - loss: 0.0150 - accuracy: 0.9979 - val_loss: 0.4631 - val_accuracy: 0.9664 - 3s/epoch - 5ms/step\n",
            "Epoch 95/150\n",
            "525/525 - 3s - loss: 0.0287 - accuracy: 0.9958 - val_loss: 0.4759 - val_accuracy: 0.9686 - 3s/epoch - 6ms/step\n",
            "Epoch 96/150\n",
            "525/525 - 3s - loss: 0.0255 - accuracy: 0.9961 - val_loss: 0.4513 - val_accuracy: 0.9699 - 3s/epoch - 5ms/step\n",
            "Epoch 97/150\n",
            "525/525 - 3s - loss: 0.0321 - accuracy: 0.9958 - val_loss: 0.3646 - val_accuracy: 0.9742 - 3s/epoch - 5ms/step\n",
            "Epoch 98/150\n",
            "525/525 - 3s - loss: 0.0171 - accuracy: 0.9972 - val_loss: 0.5379 - val_accuracy: 0.9720 - 3s/epoch - 5ms/step\n",
            "Epoch 99/150\n",
            "525/525 - 3s - loss: 0.0181 - accuracy: 0.9965 - val_loss: 0.6101 - val_accuracy: 0.9637 - 3s/epoch - 6ms/step\n",
            "Epoch 100/150\n",
            "525/525 - 3s - loss: 0.0221 - accuracy: 0.9970 - val_loss: 0.6609 - val_accuracy: 0.9689 - 3s/epoch - 5ms/step\n",
            "Epoch 101/150\n",
            "525/525 - 3s - loss: 0.0186 - accuracy: 0.9968 - val_loss: 0.6033 - val_accuracy: 0.9690 - 3s/epoch - 5ms/step\n",
            "Epoch 102/150\n",
            "525/525 - 3s - loss: 0.0143 - accuracy: 0.9971 - val_loss: 0.4196 - val_accuracy: 0.9726 - 3s/epoch - 5ms/step\n",
            "Epoch 103/150\n",
            "525/525 - 3s - loss: 0.0234 - accuracy: 0.9970 - val_loss: 0.6032 - val_accuracy: 0.9744 - 3s/epoch - 6ms/step\n",
            "Epoch 104/150\n",
            "525/525 - 3s - loss: 0.0423 - accuracy: 0.9955 - val_loss: 0.4215 - val_accuracy: 0.9674 - 3s/epoch - 5ms/step\n",
            "Epoch 105/150\n",
            "525/525 - 3s - loss: 0.0207 - accuracy: 0.9964 - val_loss: 0.4975 - val_accuracy: 0.9714 - 3s/epoch - 5ms/step\n",
            "Epoch 106/150\n",
            "525/525 - 3s - loss: 0.0155 - accuracy: 0.9979 - val_loss: 0.4665 - val_accuracy: 0.9723 - 3s/epoch - 5ms/step\n",
            "Epoch 107/150\n",
            "525/525 - 3s - loss: 0.0124 - accuracy: 0.9978 - val_loss: 0.5289 - val_accuracy: 0.9773 - 3s/epoch - 6ms/step\n",
            "Epoch 108/150\n",
            "525/525 - 3s - loss: 0.0187 - accuracy: 0.9972 - val_loss: 0.5078 - val_accuracy: 0.9729 - 3s/epoch - 5ms/step\n",
            "Epoch 109/150\n",
            "525/525 - 3s - loss: 0.0316 - accuracy: 0.9944 - val_loss: 0.4971 - val_accuracy: 0.9731 - 3s/epoch - 5ms/step\n",
            "Epoch 110/150\n",
            "525/525 - 3s - loss: 0.0425 - accuracy: 0.9957 - val_loss: 0.6643 - val_accuracy: 0.9662 - 3s/epoch - 5ms/step\n",
            "Epoch 111/150\n",
            "525/525 - 3s - loss: 0.0291 - accuracy: 0.9961 - val_loss: 0.4566 - val_accuracy: 0.9749 - 3s/epoch - 6ms/step\n",
            "Epoch 112/150\n",
            "525/525 - 3s - loss: 0.0077 - accuracy: 0.9984 - val_loss: 0.6024 - val_accuracy: 0.9764 - 3s/epoch - 5ms/step\n",
            "Epoch 113/150\n",
            "525/525 - 3s - loss: 0.0066 - accuracy: 0.9990 - val_loss: 0.5762 - val_accuracy: 0.9773 - 3s/epoch - 6ms/step\n",
            "Epoch 114/150\n",
            "525/525 - 3s - loss: 0.0116 - accuracy: 0.9986 - val_loss: 0.5014 - val_accuracy: 0.9754 - 3s/epoch - 6ms/step\n",
            "Epoch 115/150\n",
            "525/525 - 4s - loss: 0.0162 - accuracy: 0.9982 - val_loss: 0.6063 - val_accuracy: 0.9744 - 4s/epoch - 7ms/step\n",
            "Epoch 116/150\n",
            "525/525 - 3s - loss: 0.0392 - accuracy: 0.9948 - val_loss: 0.7469 - val_accuracy: 0.9700 - 3s/epoch - 6ms/step\n",
            "Epoch 117/150\n",
            "525/525 - 3s - loss: 0.0388 - accuracy: 0.9946 - val_loss: 0.6693 - val_accuracy: 0.9725 - 3s/epoch - 5ms/step\n",
            "Epoch 118/150\n",
            "525/525 - 3s - loss: 0.0326 - accuracy: 0.9961 - val_loss: 0.8757 - val_accuracy: 0.9724 - 3s/epoch - 6ms/step\n",
            "Epoch 119/150\n",
            "525/525 - 3s - loss: 0.0368 - accuracy: 0.9961 - val_loss: 0.6215 - val_accuracy: 0.9730 - 3s/epoch - 6ms/step\n",
            "Epoch 120/150\n",
            "525/525 - 3s - loss: 0.0177 - accuracy: 0.9970 - val_loss: 0.5242 - val_accuracy: 0.9721 - 3s/epoch - 5ms/step\n",
            "Epoch 121/150\n",
            "525/525 - 3s - loss: 0.0208 - accuracy: 0.9968 - val_loss: 0.5008 - val_accuracy: 0.9710 - 3s/epoch - 5ms/step\n",
            "Epoch 122/150\n",
            "525/525 - 3s - loss: 0.0120 - accuracy: 0.9976 - val_loss: 0.6063 - val_accuracy: 0.9682 - 3s/epoch - 6ms/step\n",
            "Epoch 123/150\n",
            "525/525 - 3s - loss: 0.0171 - accuracy: 0.9976 - val_loss: 0.6010 - val_accuracy: 0.9704 - 3s/epoch - 6ms/step\n",
            "Epoch 124/150\n",
            "525/525 - 3s - loss: 0.0260 - accuracy: 0.9960 - val_loss: 0.7799 - val_accuracy: 0.9701 - 3s/epoch - 5ms/step\n",
            "Epoch 125/150\n",
            "525/525 - 3s - loss: 0.0313 - accuracy: 0.9958 - val_loss: 0.7907 - val_accuracy: 0.9762 - 3s/epoch - 5ms/step\n",
            "Epoch 126/150\n",
            "525/525 - 3s - loss: 0.0272 - accuracy: 0.9971 - val_loss: 0.7393 - val_accuracy: 0.9718 - 3s/epoch - 6ms/step\n",
            "Epoch 127/150\n",
            "525/525 - 3s - loss: 0.0192 - accuracy: 0.9964 - val_loss: 0.6205 - val_accuracy: 0.9714 - 3s/epoch - 5ms/step\n",
            "Epoch 128/150\n",
            "525/525 - 3s - loss: 0.0194 - accuracy: 0.9968 - val_loss: 0.6638 - val_accuracy: 0.9730 - 3s/epoch - 5ms/step\n",
            "Epoch 129/150\n",
            "525/525 - 3s - loss: 0.0131 - accuracy: 0.9979 - val_loss: 0.6522 - val_accuracy: 0.9757 - 3s/epoch - 5ms/step\n",
            "Epoch 130/150\n",
            "525/525 - 3s - loss: 0.0228 - accuracy: 0.9972 - val_loss: 0.6783 - val_accuracy: 0.9695 - 3s/epoch - 7ms/step\n",
            "Epoch 131/150\n",
            "525/525 - 3s - loss: 0.0183 - accuracy: 0.9970 - val_loss: 0.6524 - val_accuracy: 0.9754 - 3s/epoch - 5ms/step\n",
            "Epoch 132/150\n",
            "525/525 - 3s - loss: 0.0240 - accuracy: 0.9971 - val_loss: 0.9398 - val_accuracy: 0.9710 - 3s/epoch - 5ms/step\n",
            "Epoch 133/150\n",
            "525/525 - 3s - loss: 0.0426 - accuracy: 0.9946 - val_loss: 0.5856 - val_accuracy: 0.9685 - 3s/epoch - 5ms/step\n",
            "Epoch 134/150\n",
            "525/525 - 3s - loss: 0.0181 - accuracy: 0.9968 - val_loss: 0.7582 - val_accuracy: 0.9723 - 3s/epoch - 7ms/step\n",
            "Epoch 135/150\n",
            "525/525 - 3s - loss: 0.0261 - accuracy: 0.9962 - val_loss: 0.7337 - val_accuracy: 0.9657 - 3s/epoch - 5ms/step\n",
            "Epoch 136/150\n",
            "525/525 - 3s - loss: 0.0300 - accuracy: 0.9958 - val_loss: 0.8004 - val_accuracy: 0.9690 - 3s/epoch - 5ms/step\n",
            "Epoch 137/150\n",
            "525/525 - 3s - loss: 0.0164 - accuracy: 0.9972 - val_loss: 0.7238 - val_accuracy: 0.9744 - 3s/epoch - 5ms/step\n",
            "Epoch 138/150\n",
            "525/525 - 3s - loss: 0.0129 - accuracy: 0.9983 - val_loss: 0.9704 - val_accuracy: 0.9727 - 3s/epoch - 7ms/step\n",
            "Epoch 139/150\n",
            "525/525 - 3s - loss: 0.0317 - accuracy: 0.9949 - val_loss: 0.6967 - val_accuracy: 0.9717 - 3s/epoch - 5ms/step\n",
            "Epoch 140/150\n",
            "525/525 - 3s - loss: 0.0269 - accuracy: 0.9956 - val_loss: 0.8905 - val_accuracy: 0.9727 - 3s/epoch - 5ms/step\n",
            "Epoch 141/150\n",
            "525/525 - 3s - loss: 0.0243 - accuracy: 0.9962 - val_loss: 0.7806 - val_accuracy: 0.9707 - 3s/epoch - 5ms/step\n",
            "Epoch 142/150\n",
            "525/525 - 3s - loss: 0.0565 - accuracy: 0.9929 - val_loss: 0.6980 - val_accuracy: 0.9650 - 3s/epoch - 6ms/step\n",
            "Epoch 143/150\n",
            "525/525 - 3s - loss: 0.0166 - accuracy: 0.9962 - val_loss: 0.8259 - val_accuracy: 0.9740 - 3s/epoch - 5ms/step\n",
            "Epoch 144/150\n",
            "525/525 - 3s - loss: 0.0321 - accuracy: 0.9962 - val_loss: 0.6599 - val_accuracy: 0.9719 - 3s/epoch - 5ms/step\n",
            "Epoch 145/150\n",
            "525/525 - 3s - loss: 0.0176 - accuracy: 0.9971 - val_loss: 0.7590 - val_accuracy: 0.9751 - 3s/epoch - 6ms/step\n",
            "Epoch 146/150\n",
            "525/525 - 4s - loss: 0.0151 - accuracy: 0.9977 - val_loss: 0.6149 - val_accuracy: 0.9733 - 4s/epoch - 7ms/step\n",
            "Epoch 147/150\n",
            "525/525 - 3s - loss: 0.0344 - accuracy: 0.9962 - val_loss: 0.7059 - val_accuracy: 0.9711 - 3s/epoch - 5ms/step\n",
            "Epoch 148/150\n",
            "525/525 - 3s - loss: 0.0355 - accuracy: 0.9968 - val_loss: 1.4730 - val_accuracy: 0.9712 - 3s/epoch - 5ms/step\n",
            "Epoch 149/150\n",
            "525/525 - 3s - loss: 0.0543 - accuracy: 0.9929 - val_loss: 0.7483 - val_accuracy: 0.9724 - 3s/epoch - 5ms/step\n",
            "Epoch 150/150\n",
            "525/525 - 3s - loss: 0.0204 - accuracy: 0.9972 - val_loss: 0.9385 - val_accuracy: 0.9738 - 3s/epoch - 6ms/step\n"
          ]
        }
      ]
    },
    {
      "cell_type": "code",
      "source": [
        "plt.plot(hist.history['accuracy'])\n",
        "plt.plot(hist.history['val_accuracy'])\n",
        "plt.legend(['accuracy', 'val_accuracy'])\n",
        "plt.show"
      ],
      "metadata": {
        "id": "mQfbFX7F72bh",
        "colab": {
          "base_uri": "https://localhost:8080/",
          "height": 447
        },
        "outputId": "726082d8-f385-43d6-8619-26a9b1eb096f"
      },
      "execution_count": null,
      "outputs": [
        {
          "output_type": "execute_result",
          "data": {
            "text/plain": [
              "<function matplotlib.pyplot.show(close=None, block=None)>"
            ]
          },
          "metadata": {},
          "execution_count": 20
        },
        {
          "output_type": "display_data",
          "data": {
            "text/plain": [
              "<Figure size 640x480 with 1 Axes>"
            ],
            "image/png": "[encoded data removed]"
          },
          "metadata": {}
        }
      ]
    },
    {
      "cell_type": "code",
      "source": [
        "plt.plot(hist.history['loss'])\n",
        "plt.plot(hist.history['val_loss'])\n",
        "plt.legend(['Loss', 'Validation Loss'])\n",
        "plt.show()"
      ],
      "metadata": {
        "id": "ONsNpWix8mSn",
        "colab": {
          "base_uri": "https://localhost:8080/",
          "height": 430
        },
        "outputId": "04c3c47b-c30a-41fa-9401-23365f0b1422"
      },
      "execution_count": null,
      "outputs": [
        {
          "output_type": "display_data",
          "data": {
            "text/plain": [
              "<Figure size 640x480 with 1 Axes>"
            ],
            "image/png": "[encoded data removed]"
          },
          "metadata": {}
        }
      ]
    },
    {
      "cell_type": "markdown",
      "source": [
        "Using dropout"
      ],
      "metadata": {
        "id": "DnzPCZQzGGFK"
      }
    },
    {
      "cell_type": "code",
      "source": [
        "model1=Sequential()"
      ],
      "metadata": {
        "id": "n3pjENswA7Zo"
      },
      "execution_count": null,
      "outputs": []
    },
    {
      "cell_type": "code",
      "source": [
        "model1.add(Dense(512, activation = 'relu', input_dim = 784))\n",
        "model1.add(Dropout(0.2))\n",
        "model1.add(Dense(512, activation = 'relu'))\n",
        "model1.add(Dropout(0.2))\n",
        "model1.add(Dense(512, activation = 'relu'))\n",
        "model1.add(Dropout(0.2))\n",
        "model1.add(Dense(10, activation = 'softmax'))"
      ],
      "metadata": {
        "id": "9HnuwqOVD_TH"
      },
      "execution_count": null,
      "outputs": []
    },
    {
      "cell_type": "code",
      "source": [
        "model1.compile(optimizer = 'Adam', loss = 'categorical_crossentropy', metrics =['accuracy'])"
      ],
      "metadata": {
        "id": "ju2RM2DZEFUs"
      },
      "execution_count": null,
      "outputs": []
    },
    {
      "cell_type": "code",
      "source": [
        "y_train_ohe = to_categorical(y_train)\n",
        "y_test_ohe = to_categorical(y_test)"
      ],
      "metadata": {
        "id": "2c7LhUulEKC9"
      },
      "execution_count": null,
      "outputs": []
    },
    {
      "cell_type": "code",
      "source": [
        "hist1 = model1.fit(x_train, y_train_ohe,validation_data = (x_test, y_test_ohe), epochs = 100, batch_size = 64, verbose = 2)"
      ],
      "metadata": {
        "id": "H37_6ovsFLy1"
      },
      "execution_count": null,
      "outputs": []
    },
    {
      "cell_type": "code",
      "source": [
        "plt.plot(hist1.history['accuracy'])\n",
        "plt.plot(hist1.history['val_accuracy'])\n",
        "plt.legend(['accuracy', 'val_accuracy'])\n",
        "plt.show"
      ],
      "metadata": {
        "colab": {
          "base_uri": "https://localhost:8080/",
          "height": 447
        },
        "id": "V4Xa9mA_BGrd",
        "outputId": "336daaa8-bde9-4253-fcaa-bf85fa0549d0"
      },
      "execution_count": null,
      "outputs": [
        {
          "output_type": "execute_result",
          "data": {
            "text/plain": [
              "<function matplotlib.pyplot.show(close=None, block=None)>"
            ]
          },
          "metadata": {},
          "execution_count": 26
        },
        {
          "output_type": "display_data",
          "data": {
            "text/plain": [
              "<Figure size 640x480 with 1 Axes>"
            ],
            "image/png": "[encoded data removed]"
          },
          "metadata": {}
        }
      ]
    },
    {
      "cell_type": "code",
      "source": [
        "plt.plot(hist1.history['loss'])\n",
        "plt.plot(hist1.history['val_loss'])\n",
        "plt.legend(['Loss', 'Validation Loss'])\n",
        "plt.show()"
      ],
      "metadata": {
        "colab": {
          "base_uri": "https://localhost:8080/",
          "height": 430
        },
        "id": "0jPvimdxBNKe",
        "outputId": "53b7eccb-fc4a-4814-a6e1-896a0f3d509d"
      },
      "execution_count": null,
      "outputs": [
        {
          "output_type": "display_data",
          "data": {
            "text/plain": [
              "<Figure size 640x480 with 1 Axes>"
            ],
            "image/png": "[encoded data removed]"
          },
          "metadata": {}
        }
      ]
    },
    {
      "cell_type": "markdown",
      "source": [
        "argmax"
      ],
      "metadata": {
        "id": "L6DwcoZGQ2rb"
      }
    },
    {
      "cell_type": "code",
      "source": [
        "preds_y_train = model.predict(x_train)"
      ],
      "metadata": {
        "colab": {
          "base_uri": "https://localhost:8080/"
        },
        "id": "hNDHpE6APYPQ",
        "outputId": "e857a4bd-1498-4167-de71-55c5470bf62c"
      },
      "execution_count": null,
      "outputs": [
        {
          "output_type": "stream",
          "name": "stdout",
          "text": [
            "1050/1050 [==============================] - 2s 2ms/step\n"
          ]
        }
      ]
    },
    {
      "cell_type": "code",
      "source": [
        "preds_y_train[1]"
      ],
      "metadata": {
        "colab": {
          "base_uri": "https://localhost:8080/"
        },
        "id": "DCbx2z_QPe8i",
        "outputId": "76de3386-0069-433b-cfd8-3231a6f3aa1d"
      },
      "execution_count": null,
      "outputs": [
        {
          "output_type": "execute_result",
          "data": {
            "text/plain": [
              "array([8.9538551e-32, 0.0000000e+00, 2.3011997e-31, 1.4390667e-22,\n",
              "       7.3985703e-20, 9.3816741e-22, 0.0000000e+00, 9.8080554e-28,\n",
              "       9.2722027e-21, 9.9999994e-01], dtype=float32)"
            ]
          },
          "metadata": {},
          "execution_count": 24
        }
      ]
    },
    {
      "cell_type": "code",
      "source": [
        "np.argmax(preds_y_train[1],axis=0)"
      ],
      "metadata": {
        "colab": {
          "base_uri": "https://localhost:8080/"
        },
        "id": "IRW2xTEePiy8",
        "outputId": "b099f240-ce4a-4ac2-fba8-1b32ca9bcc57"
      },
      "execution_count": null,
      "outputs": [
        {
          "output_type": "execute_result",
          "data": {
            "text/plain": [
              "9"
            ]
          },
          "metadata": {},
          "execution_count": 25
        }
      ]
    },
    {
      "cell_type": "code",
      "source": [
        "preds_y_train[3]"
      ],
      "metadata": {
        "colab": {
          "base_uri": "https://localhost:8080/"
        },
        "id": "Xu-2RoD1Pv_l",
        "outputId": "3d542f22-08af-4ff6-edb1-cafa02483bd1"
      },
      "execution_count": null,
      "outputs": [
        {
          "output_type": "execute_result",
          "data": {
            "text/plain": [
              "array([0.        , 0.99999994, 0.        , 0.        , 0.        ,\n",
              "       0.        , 0.        , 0.        , 0.        , 0.        ],\n",
              "      dtype=float32)"
            ]
          },
          "metadata": {},
          "execution_count": 26
        }
      ]
    },
    {
      "cell_type": "code",
      "source": [
        "np.argmax(preds_y_train[3],axis=0)"
      ],
      "metadata": {
        "colab": {
          "base_uri": "https://localhost:8080/"
        },
        "id": "Xu7tBaEnP2Qu",
        "outputId": "ad26a8ff-a7ef-4a46-fe51-4634fc32bede"
      },
      "execution_count": null,
      "outputs": [
        {
          "output_type": "execute_result",
          "data": {
            "text/plain": [
              "1"
            ]
          },
          "metadata": {},
          "execution_count": 27
        }
      ]
    },
    {
      "cell_type": "code",
      "source": [
        "preds_ytest_class = np.argmax(model.predict(x_test), axis = 1)"
      ],
      "metadata": {
        "colab": {
          "base_uri": "https://localhost:8080/"
        },
        "id": "98uO53yWReKo",
        "outputId": "6f95550c-32d9-428e-b834-a5022ef2e7da"
      },
      "execution_count": null,
      "outputs": [
        {
          "output_type": "stream",
          "name": "stdout",
          "text": [
            "263/263 [==============================] - 1s 4ms/step\n"
          ]
        }
      ]
    },
    {
      "cell_type": "code",
      "source": [
        "model_eval(y_test, preds_ytest_class)"
      ],
      "metadata": {
        "colab": {
          "base_uri": "https://localhost:8080/"
        },
        "id": "a2n9XCSbQ0s6",
        "outputId": "59e4d0f9-eb16-4b01-c283-bcfec0033e78"
      },
      "execution_count": null,
      "outputs": [
        {
          "output_type": "stream",
          "name": "stdout",
          "text": [
            "Model Accuracy is:  0.97\n",
            "[[768   0   0   0   0  13   2   0   1   1]\n",
            " [  0 938   5   0   1   1   1   1   2   0]\n",
            " [  3   1 819   0   1   7   0   2   4   1]\n",
            " [  0   1   4 830   0  17   0   2   3   1]\n",
            " [  0   3   0   0 784   2   0   1   1   5]\n",
            " [  0   0   1   8   1 781   5   0   4   0]\n",
            " [  3   2   0   0   4   7 854   0   0   0]\n",
            " [  0   3   8   0   4  12   0 829   1   3]\n",
            " [  1   6   2   1   3  18   0   0 785   1]\n",
            " [  2   0   0   0  12  13   1   4   3 792]]\n",
            "              precision    recall  f1-score   support\n",
            "\n",
            "           0       0.99      0.98      0.98       785\n",
            "           1       0.98      0.99      0.99       949\n",
            "           2       0.98      0.98      0.98       838\n",
            "           3       0.99      0.97      0.98       858\n",
            "           4       0.97      0.98      0.98       796\n",
            "           5       0.90      0.98      0.93       800\n",
            "           6       0.99      0.98      0.99       870\n",
            "           7       0.99      0.96      0.98       860\n",
            "           8       0.98      0.96      0.97       817\n",
            "           9       0.99      0.96      0.97       827\n",
            "\n",
            "    accuracy                           0.97      8400\n",
            "   macro avg       0.97      0.97      0.97      8400\n",
            "weighted avg       0.97      0.97      0.97      8400\n",
            "\n"
          ]
        }
      ]
    },
    {
      "cell_type": "code",
      "source": [
        "preds_y_test = model.predict(x_test)"
      ],
      "metadata": {
        "colab": {
          "base_uri": "https://localhost:8080/"
        },
        "id": "HcnOJC_6P7rB",
        "outputId": "69574bf1-1284-4079-f90b-6de6a255d094"
      },
      "execution_count": null,
      "outputs": [
        {
          "output_type": "stream",
          "name": "stdout",
          "text": [
            "263/263 [==============================] - 1s 2ms/step\n"
          ]
        }
      ]
    },
    {
      "cell_type": "code",
      "source": [
        "preds_y_test[1]"
      ],
      "metadata": {
        "colab": {
          "base_uri": "https://localhost:8080/"
        },
        "id": "RG56_5tGQCcn",
        "outputId": "28220942-243d-421b-9637-2900991f88cb"
      },
      "execution_count": null,
      "outputs": [
        {
          "output_type": "execute_result",
          "data": {
            "text/plain": [
              "array([0.        , 0.        , 0.99999994, 0.        , 0.        ,\n",
              "       0.        , 0.        , 0.        , 0.        , 0.        ],\n",
              "      dtype=float32)"
            ]
          },
          "metadata": {},
          "execution_count": 29
        }
      ]
    },
    {
      "cell_type": "code",
      "source": [
        "np.argmax(preds_y_test[1],axis=0)"
      ],
      "metadata": {
        "colab": {
          "base_uri": "https://localhost:8080/"
        },
        "id": "VimbmKh0QMJG",
        "outputId": "9fc6bd12-6d2f-4529-cffb-ade2a9a5d499"
      },
      "execution_count": null,
      "outputs": [
        {
          "output_type": "execute_result",
          "data": {
            "text/plain": [
              "2"
            ]
          },
          "metadata": {},
          "execution_count": 30
        }
      ]
    },
    {
      "cell_type": "code",
      "source": [],
      "metadata": {
        "id": "2nFIJAX5QzFj"
      },
      "execution_count": null,
      "outputs": []
    }
  ]
}